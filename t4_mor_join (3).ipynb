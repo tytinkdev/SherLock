{
 "cells": [
  {
   "cell_type": "markdown",
   "id": "confidential-taste",
   "metadata": {
    "id": "answering-marine"
   },
   "source": [
    "# SherLock, Malware Detection in Androids without Root Privileges"
   ]
  },
  {
   "cell_type": "markdown",
   "id": "accomplished-falls",
   "metadata": {
    "id": "contemporary-science"
   },
   "source": [
    "<span style=\"color:red\">You should be in a PySpark docker image to run this notebook!</span>  \n",
    "If you're not in PySpark, please run the following (presuming you have docker installed)"
   ]
  },
  {
   "cell_type": "code",
   "execution_count": null,
   "id": "recent-projector",
   "metadata": {
    "id": "african-assault"
   },
   "outputs": [],
   "source": [
    "!docker run -it --rm -p 8888:8888 jupyter/pyspark-notebook"
   ]
  },
  {
   "cell_type": "markdown",
   "id": "subject-entity",
   "metadata": {
    "id": "coastal-contact"
   },
   "source": [
    "If you need help, check out [this link](https://medium.com/@suci/running-pyspark-on-jupyter-notebook-with-docker-602b18ac4494)"
   ]
  },
  {
   "cell_type": "markdown",
   "id": "recognized-minnesota",
   "metadata": {
    "id": "configured-excerpt"
   },
   "source": [
    "# Sherlock: Classifying Malicious Cell Phone Sessions \n",
    "\n",
    "This subset of the well-known Sherlock dataset contains data extracted from 37 user's cell phones across 3 months at the beginning of 2016. There are two tables involved in this analysis:  \n",
    "T4.tsv: ~26Gb of data on battery level, memory usage, packet inflows and outflows and the like. Each row represents a scan, and scans are conducted every 5 seconds. \n",
    "Moriartyprobe.tsv: ~65Mb of data from an app called Moriarty which starts \"sessions\", a variety of realistic of attacks on the user's cellphone that stop and start intermittently. The sessions are either benign or malicious.  \n",
    "\n",
    "Our model will explore these 5 second chunks of times as independent observations, enabling the development of a binary classification learning model that can be implemented to track T4 cell phone usage stats in real time to identify whether an attack is occurring and signal the user.  \n",
    "\n",
    "In order to use this dataset in a Spark ML pipeline, it must be imported, transformed, cleaned, subsetted, then both tables must be combined. The code below uses awk, PySpark, and the SparkSQL api to do all of that.  "
   ]
  },
  {
   "cell_type": "markdown",
   "id": "independent-library",
   "metadata": {
    "id": "hollow-evans"
   },
   "source": [
    "## First: Grab the T4 data from my personal dropbox. The links below will automatically download\n",
    "\n",
    "I'm not paying 11.99 a month for nothing!\n",
    "\n",
    "<span style=\"color:red\">WARNING: T4 is very large. 25.66Gbs to be exact. Please check your disk space before downloading the files.</span>  \n",
    "\n",
    "[T4.tsv](https://www.dropbox.com/s/ran3lbrs756w2hn/T4.tsv?dl=1) (26Gb)  "
   ]
  },
  {
   "cell_type": "markdown",
   "id": "wicked-remainder",
   "metadata": {
    "id": "secondary-chart"
   },
   "source": [
    "## Second: Grab the Moriarty Probe data from my personal dropbox. \n",
    "\n",
    "[Moriartyprobe.tsv](https://www.dropbox.com/s/epbcz9wg3nl0twi/Moriartyprobe.tsv?dl=1) (65.2MB)"
   ]
  },
  {
   "cell_type": "markdown",
   "id": "casual-patient",
   "metadata": {
    "id": "following-illness"
   },
   "source": [
    "## Third: Drag and Drop both T4.tsv or T4randomsample.tsv and Moriartyprobe.tsv  in the folder labeled \"tsvs\"\n",
    "\n",
    "This step is very important, or else the filepaths below will not work (and you will feel like pulling your hair out trying to fix them). Or you'll be really upset with me. Neither is good."
   ]
  },
  {
   "cell_type": "code",
   "execution_count": null,
   "id": "fitted-dialogue",
   "metadata": {
    "id": "dramatic-prime",
    "outputId": "9fa1fa80-885c-4b90-ab4e-746d9366a4b1"
   },
   "outputs": [
    {
     "name": "stdout",
     "output_type": "stream",
     "text": [
      "/home/jovyan/SherLock\n"
     ]
    }
   ],
   "source": [
    "# Verify that your working directory is \"SherLock\"\n",
    "!pwd"
   ]
  },
  {
   "cell_type": "code",
   "execution_count": null,
   "id": "copyrighted-pollution",
   "metadata": {
    "id": "olympic-offering",
    "outputId": "c2c5329b-88ae-49ef-8900-b82640a9c42e"
   },
   "outputs": [
    {
     "name": "stdout",
     "output_type": "stream",
     "text": [
      "#!/usr/bin/awk -f\n",
      "BEGIN { FS=\"\\t\"; OFS=\",\" } { \n",
      "  if (FILENAME ~ /T4/){ \n",
      "    rebuilt=0 \n",
      "    for(i=1; i<=NF; ++i) { \n",
      "      if ($i ~ /Hz/){ \n",
      "        $i = ($i + 0) \n",
      "        if ($i > 100) {$i*=.001} \n",
      "      } \n",
      "      if ($i ~ /,/ && $i !~ /^\".*\"$/) { \n",
      "        gsub(\"\\\"\", \"\\\"\\\"\", $i) \n",
      "        $i = \"\\\"\" $i \"\\\"\" \n",
      "        rebuilt=1 \n",
      "      } \n",
      "    } \n",
      "    if (!rebuilt) { $1=$1 } \n",
      "    print $1,$2,$3,$4,$5,$6,$7,$8,$9,$10,$11,$12,$13,$14,$15,$16,$17,$18,$19,$20,$21,$22,$23,$24,$25,$26 \n",
      "  } \n",
      "  else if (FILENAME ~ /Mor/) { \n",
      "    rebuilt=0 \n",
      "    for(i=1; i<=NF; ++i) \n",
      "      if ($i ~ /,/ && $i !~ /^\".*\"$/) { \n",
      "        gsub(\"\\\"\", \"\\\"\\\"\", $i) \n",
      "        $i = \"\\\"\" $i \"\\\"\" \n",
      "        rebuilt=1 \n",
      "      } \n",
      "    if (!rebuilt) { $1=$1 } \n",
      "    print $1,$2,$3,$4,$5,$6,$7,$8 \n",
      "  } \n",
      "} "
     ]
    }
   ],
   "source": [
    "# I use an awk script to do the transformations. It can be viewed at /Sherlock/import.awk\n",
    "!cat import.awk\n",
    "# change permissions to make file executable\n",
    "!chmod +x import.awk"
   ]
  },
  {
   "cell_type": "markdown",
   "id": "buried-poverty",
   "metadata": {
    "id": "innocent-slide"
   },
   "source": [
    "<span style=\"color:red\">If you used the dataset T4randomsample.tsv instead of T4.tsv, change the line \"tsvs/T4.tsv\" to \"tsvs/T4randomsample.tsv\"</span>"
   ]
  },
  {
   "cell_type": "markdown",
   "id": "chief-gather",
   "metadata": {
    "id": "defined-plymouth"
   },
   "source": [
    "## Fourth: Transform the datasets using awk streaming language\n",
    "\n",
    "Fun fact, this language was developed in 1977 by AT&T! It's still surprisingly useful today for data extraction and reporting.   \n",
    "I'm using a script called import.awk to make all transformations  \n",
    "This next code calls that script, and prints its results to a new file in the correct part of the filesystem.  \n",
    "The changes made are as follows:  \n",
    "1. Change the delimiter from tabs (\\t) to commas (,)\n",
    "2. If the filename contains T4, change the Hz column to be numeric, and if the number is larger than 100, it means that the value was labeled in MHz, and it is to be reduced by a factor of 100.  The rest are null.\n",
    "3. Else if the filename contains Mor, don't do the GHz transformation. \n",
    "3. If either file incidentally has any misplaced delimiter values (such as stray commas, quotation marks, or back slashes), fix them!\n",
    "4. Print out a subset of columns (1-26) for T4.tsv, and a subset of columns (1-8) for Moriartyprobe.tsv. \n",
    "5. There should now be two trasformed, useable tsv files in the correct folders\n"
   ]
  },
  {
   "cell_type": "code",
   "execution_count": null,
   "id": "solar-payday",
   "metadata": {
    "id": "excess-engine"
   },
   "outputs": [],
   "source": [
    "# Command line script using awk to remove null columns and transform to both T4 and Moriartyprobe to csv format. \n",
    "# Also removes Hz labels from Hz columns, and makes consistent the units of the Hz column in T4.  \n",
    "!./import.awk \\\n",
    "tsvs/T4randomsample.tsv \\\n",
    "    > csvs/T4subset.csv \n",
    "!./import.awk \\\n",
    "tsvs/Moriartyprobe.tsv \\\n",
    "    > csvs/Moriartyprobe.csv"
   ]
  },
  {
   "cell_type": "markdown",
   "id": "tired-midnight",
   "metadata": {
    "id": "operational-temperature"
   },
   "source": [
    "## Fifth: Load PySpark for further transformations\n",
    "Use !pip install to install anything you are missing"
   ]
  },
  {
   "cell_type": "code",
   "execution_count": 1,
   "id": "spanish-provincial",
   "metadata": {
    "id": "explicit-bumper"
   },
   "outputs": [],
   "source": [
    "# Import pyspark\n",
    "from pyspark.ml.linalg import Vectors\n",
    "from pyspark.ml.stat import Correlation\n",
    "from pyspark.sql import SparkSession\n",
    "from functools import reduce\n",
    "import pandas as pd\n",
    "import numpy as np\n",
    "import sklearn"
   ]
  },
  {
   "cell_type": "code",
   "execution_count": 3,
   "id": "detected-hungary",
   "metadata": {
    "id": "breeding-guatemala"
   },
   "outputs": [],
   "source": [
    "# Start a session \n",
    "spark = SparkSession.builder.master('local[2]').config(\"spark.executor.memory\", \"2g\").config(\"spark.driver.memory\", \"2g\").appName('spark_sh_data').getOrCreate()"
   ]
  },
  {
   "cell_type": "code",
   "execution_count": 4,
   "id": "least-league",
   "metadata": {
    "id": "lyric-blood"
   },
   "outputs": [],
   "source": [
    "# Import data: t4 and Moriarty\n",
    "t4 = spark.read.options(header=True, nullValue='NULL', inferSchema=True).csv('csvs/T4subset.csv')\n",
    "mor = spark.read.options(header=True, nullValue='NULL', inferSchema=True).csv('csvs/Moriartyprobe.csv')"
   ]
  },
  {
   "cell_type": "markdown",
   "id": "ecological-haven",
   "metadata": {
    "id": "radical-asthma"
   },
   "source": [
    "## Sixth: Add column names to csv files"
   ]
  },
  {
   "cell_type": "code",
   "execution_count": 5,
   "id": "patient-packaging",
   "metadata": {
    "id": "municipal-sharp",
    "outputId": "f5c3d3a5-9977-4677-9d8c-e166f8374137"
   },
   "outputs": [
    {
     "name": "stdout",
     "output_type": "stream",
     "text": [
      "root\n",
      " |-- userid: string (nullable = true)\n",
      " |-- uuid: long (nullable = true)\n",
      " |-- Version: string (nullable = true)\n",
      " |-- CpuGHz: string (nullable = true)\n",
      " |-- CPU_0: string (nullable = true)\n",
      " |-- CPU_1: string (nullable = true)\n",
      " |-- CPU_2: string (nullable = true)\n",
      " |-- CPU_3: string (nullable = true)\n",
      " |-- Total_CPU: string (nullable = true)\n",
      " |-- TotalMemory_freeSize: string (nullable = true)\n",
      " |-- TotalMemory_max_size: string (nullable = true)\n",
      " |-- TotalMemory_total_size: string (nullable = true)\n",
      " |-- TotalMemory_used_size: string (nullable = true)\n",
      " |-- Traffic_MobileRxBytes: string (nullable = true)\n",
      " |-- Traffic_MobileRxPackets: string (nullable = true)\n",
      " |-- Traffic_MobileTxBytes: string (nullable = true)\n",
      " |-- Traffic_MobileTxPackets: string (nullable = true)\n",
      " |-- Traffic_TotalRxBytes: string (nullable = true)\n",
      " |-- Traffic_TotalRxPackets: string (nullable = true)\n",
      " |-- Traffic_TotalTxBytes: string (nullable = true)\n",
      " |-- Traffic_TotalTxPackets: string (nullable = true)\n",
      " |-- Traffic_TotalWifiRxBytes: string (nullable = true)\n",
      " |-- Traffic_TotalWifiRxPackets: string (nullable = true)\n",
      " |-- Traffic_TotalWifiTxBytes: string (nullable = true)\n",
      " |-- Traffic_TotalWifiTxPackets: string (nullable = true)\n",
      " |-- Traffic_timestamp: string (nullable = true)\n",
      "\n",
      "root\n",
      " |-- userid: string (nullable = true)\n",
      " |-- uuid: long (nullable = true)\n",
      " |-- actionType: string (nullable = true)\n",
      " |-- action: string (nullable = true)\n",
      " |-- behavior: string (nullable = true)\n",
      " |-- sessionType: string (nullable = true)\n",
      " |-- sessionID: string (nullable = true)\n",
      " |-- version: integer (nullable = true)\n",
      "\n"
     ]
    }
   ],
   "source": [
    "# create colnames T4\n",
    "t4_colnames = ['userid', 'uuid', 'Version', 'CpuGHz', 'CPU_0', 'CPU_1', 'CPU_2', 'CPU_3', 'Total_CPU', 'TotalMemory_freeSize', 'TotalMemory_max_size',\n",
    "'TotalMemory_total_size', 'TotalMemory_used_size', 'Traffic_MobileRxBytes', 'Traffic_MobileRxPackets', 'Traffic_MobileTxBytes',\n",
    "'Traffic_MobileTxPackets','Traffic_TotalRxBytes', 'Traffic_TotalRxPackets', 'Traffic_TotalTxBytes', 'Traffic_TotalTxPackets',\n",
    "'Traffic_TotalWifiRxBytes', 'Traffic_TotalWifiRxPackets', 'Traffic_TotalWifiTxBytes', 'Traffic_TotalWifiTxPackets',\n",
    "'Traffic_timestamp', 'Battery_charge_type', 'Battery_current_avg']\n",
    "\n",
    "# create colnames Moriarty \n",
    "mor_colnames = ['userid', 'uuid', 'actionType', 'action', 'behavior', 'sessionType', 'sessionID', 'version']\n",
    "# Add column names\n",
    "t4_oldColumns = t4.schema.names\n",
    "t4_newColumns = t4_colnames\n",
    "\n",
    "mor_oldColumns = mor.schema.names\n",
    "mor_newColumns = mor_colnames\n",
    "\n",
    "\n",
    "t4 = reduce(lambda t4, idx: t4.withColumnRenamed(t4_oldColumns[idx], t4_newColumns[idx]), range(len(t4_oldColumns)), t4)\n",
    "mor = reduce(lambda mor, idx: mor.withColumnRenamed(mor_oldColumns[idx], mor_newColumns[idx]), range(len(mor_oldColumns)), mor)\n",
    "t4.printSchema()\n",
    "mor.printSchema()"
   ]
  },
  {
   "cell_type": "code",
   "execution_count": 7,
   "id": "fossil-anxiety",
   "metadata": {
    "id": "oriented-license",
    "outputId": "187f5987-ff0c-4eca-e318-c205c3e330d6"
   },
   "outputs": [
    {
     "name": "stdout",
     "output_type": "stream",
     "text": [
      "+----------+-------------+--------------------+-------------------+--------+-----------+---------+-------+\n",
      "|    userid|         uuid|          actionType|             action|behavior|sessionType|sessionID|version|\n",
      "+----------+-------------+--------------------+-------------------+--------+-----------+---------+-------+\n",
      "|0a50e09262|1451638991449|App entered onPau...|    App Mode change|  benign|     benign|      1.0|     21|\n",
      "|0a50e09262|1451637887475|Application enter...|Application started|  benign|     benign|      1.0|     21|\n",
      "|0a50e09262|1451637887633|User started to p...|        Game stared|  benign|     benign|      1.0|     21|\n",
      "|0a50e09262|1451637921510|App entered onPau...|    App Mode change|  benign|     benign|      1.0|     21|\n",
      "|0a50e09262|1451638167470|App entered onResume|    App Mode change|  benign|     benign|      1.0|     21|\n",
      "+----------+-------------+--------------------+-------------------+--------+-----------+---------+-------+\n",
      "only showing top 5 rows\n",
      "\n"
     ]
    }
   ],
   "source": [
    "# verify successful import\n",
    "import pandas as pd\n",
    "pd.set_option('display.max_columns', None)\n",
    "mor.show(5)"
   ]
  },
  {
   "cell_type": "markdown",
   "id": "surgical-spell",
   "metadata": {
    "id": "terminal-procurement"
   },
   "source": [
    "## Seventh: Join the t4 and Moriarty datasets. They do not share a common key. \n",
    "This is a critical move, and a challenging one. I will need to join the tables based on the uuid values, only joining values which are within the same range of time period. UUID is measured in milliseconds, so I will distribute labels of malicious or benign across the time ranges.\n",
    "Utilizing a CTE, a window function, and a subquery, I successfully joined the two tables. \n",
    "Steps taken in the SQL Join:  \n",
    "1. Create a Subquery table called \"sub\", which contains the uuid, sessionType, a new index column created with count(m.sessionType) over uuid, named m_grp, all selected from full - joining t4 and Moriarty.  \n",
    "2. From \"sub\", select select uuid, the minimum of each m_grp (which will populate the same value over and over for each m_grp) as sessionType. <-- This is the main step.  \n",
    "3. Select everything from this table, then join back the original t4 on the uuids, which excludes any duplicates from the table.  \n",
    "\n",
    "If you desire a simple, foobar like stack overflow explanation of the general logic behind what I did, check out [this SO answer](https://dba.stackexchange.com/questions/105736/combine-two-event-tables-into-a-single-timeline). I built on this answer by using a CTE, so that I could join the two tables only on values found in the original t4 dataset. I didn't want duplicate values for any T4 data. "
   ]
  },
  {
   "cell_type": "code",
   "execution_count": 44,
   "id": "funny-interview",
   "metadata": {
    "id": "suspected-construction"
   },
   "outputs": [],
   "source": [
    "# create temp table \n",
    "t4.createOrReplaceTempView('t4')\n",
    "mor.createOrReplaceTempView('mor')\n",
    "t4_mor = spark.sql(\"\"\"\n",
    "with CTE as (SELECT uuid\n",
    "    , min(sessionType) OVER (PARTITION BY m_grp) as sessionType\n",
    "FROM (\n",
    "    SELECT uuid, m.sessionType \n",
    "        , count(m.sessionType) OVER (ORDER BY uuid) as m_grp\n",
    "    FROM mor m\n",
    "    FULL OUTER JOIN t4 t using(uuid)\n",
    "    ) sub)\n",
    "SELECT * \n",
    "FROM CTE\n",
    "JOIN t4 using(uuid);\n",
    "\"\"\")"
   ]
  },
  {
   "cell_type": "markdown",
   "id": "minute-service",
   "metadata": {
    "id": "positive-florida"
   },
   "source": [
    "## Eighth: Verify that the dataframe has both a sessionType column populated with values, and a bunch of cell data like CPU and Memory stats"
   ]
  },
  {
   "cell_type": "code",
   "execution_count": 13,
   "id": "mediterranean-eugene",
   "metadata": {
    "id": "certain-exemption",
    "outputId": "fda05f23-bad5-45ec-f834-8178136953c0"
   },
   "outputs": [
    {
     "name": "stdout",
     "output_type": "stream",
     "text": [
      "+-------------+-----------+----------+-------+------+--------+---------+--------+---------+---------+--------------------+--------------------+----------------------+---------------------+---------------------+-----------------------+---------------------+-----------------------+--------------------+----------------------+--------------------+----------------------+------------------------+--------------------------+------------------------+--------------------------+--------------------+\n",
      "|         uuid|sessionType|    userid|Version|CpuGHz|   CPU_0|    CPU_1|   CPU_2|    CPU_3|Total_CPU|TotalMemory_freeSize|TotalMemory_max_size|TotalMemory_total_size|TotalMemory_used_size|Traffic_MobileRxBytes|Traffic_MobileRxPackets|Traffic_MobileTxBytes|Traffic_MobileTxPackets|Traffic_TotalRxBytes|Traffic_TotalRxPackets|Traffic_TotalTxBytes|Traffic_TotalTxPackets|Traffic_TotalWifiRxBytes|Traffic_TotalWifiRxPackets|Traffic_TotalWifiTxBytes|Traffic_TotalWifiTxPackets|   Traffic_timestamp|\n",
      "+-------------+-----------+----------+-------+------+--------+---------+--------+---------+---------+--------------------+--------------------+----------------------+---------------------+---------------------+-----------------------+---------------------+-----------------------+--------------------+----------------------+--------------------+----------------------+------------------------+--------------------------+------------------------+--------------------------+--------------------+\n",
      "|1451606641135|       null|1a1a12314b|    2.0|   2.4|5.882353|      0.0|     0.0|      0.0|1.4705882|             4975460|           134217728|              33985728|             29010268|                    0|                      0|                    0|                      0|                   0|                     0|                   0|                     0|                       0|                         0|                       0|                         0|2016-01-01 02:04:...|\n",
      "|1451610231840|  malicious|5b76bedcac|    2.0|   1.7|6.666667|      0.0|     0.0|      0.0|1.6666667|             5967672|           134217728|              28579734|             22612062|                    0|                      0|                    0|                      0|                   0|                     0|                   0|                     0|                       0|                         0|                       0|                         0|2016-01-01 03:03:...|\n",
      "|1451612040990|  malicious|d35184bc22|    2.0| 0.883|    6.25|      0.0|     0.0|11.111112|4.3402777|             2916574|           134217728|              30964342|             28047768|                    0|                      0|                    0|                      0|                   0|                     0|                   0|                     0|                       0|                         0|                       0|                         0|2016-01-01 03:34:...|\n",
      "|1451647411655|     benign|6e200090ee|    2.0|   2.4|41.17647|     50.0|83.33333|     25.0| 49.87745|             1437200|           134217728|              36993820|             35556620|             -4364968|                  -7100|             -1946755|                  -9184|                3209|                    69|               68549|                    72|                 4368177|                      7169|                 2015304|                      9256|2016-01-01 13:23:...|\n",
      "|1451711185754|  malicious|ec3b3592f1|    2.0|   2.4|    6.25|16.666668|     0.0|      0.0| 5.729167|             7645592|           134217728|              29805114|             22159522|                    0|                      0|                    0|                      0|                   0|                     0|                   0|                     0|                       0|                         0|                       0|                         0|2016-01-02 07:06:...|\n",
      "+-------------+-----------+----------+-------+------+--------+---------+--------+---------+---------+--------------------+--------------------+----------------------+---------------------+---------------------+-----------------------+---------------------+-----------------------+--------------------+----------------------+--------------------+----------------------+------------------------+--------------------------+------------------------+--------------------------+--------------------+\n",
      "only showing top 5 rows\n",
      "\n"
     ]
    }
   ],
   "source": [
    "t4_mor.show(5)"
   ]
  },
  {
   "cell_type": "code",
   "execution_count": 14,
   "id": "figured-summit",
   "metadata": {
    "id": "authentic-stage",
    "outputId": "da3c0edd-4856-42ca-9170-82c1bdee4123"
   },
   "outputs": [],
   "source": [
    "# Looks like there's null values. Those are values outside of the time range of the samples. Let's drop 'em, to ensure a full dataset. \n",
    "t4_mor = t4_mor[t4_mor['sessionType'] != \"\"]"
   ]
  },
  {
   "cell_type": "code",
   "execution_count": 16,
   "id": "prostate-diabetes",
   "metadata": {
    "id": "czech-orchestra",
    "outputId": "9a90e5fb-b1c2-4853-b16c-86095167b1d6"
   },
   "outputs": [
    {
     "name": "stdout",
     "output_type": "stream",
     "text": [
      "+-----------+-----+\n",
      "|sessionType|count|\n",
      "+-----------+-----+\n",
      "|     benign|17074|\n",
      "|  malicious|82936|\n",
      "+-----------+-----+\n",
      "\n"
     ]
    }
   ],
   "source": [
    "# Check how many of each sessionType we have\n",
    "t4_mor.groupBy('sessionType').count().show()"
   ]
  },
  {
   "cell_type": "markdown",
   "id": "regional-wallet",
   "metadata": {
    "id": "hollow-conversion"
   },
   "source": [
    "# Machine Learning Steps in PySpark "
   ]
  },
  {
   "cell_type": "code",
   "execution_count": 94,
   "id": "empirical-implementation",
   "metadata": {
    "id": "supported-portfolio"
   },
   "outputs": [],
   "source": [
    "from pyspark.ml.evaluation import RegressionEvaluator, BinaryClassificationEvaluator\n",
    "\n",
    "\n",
    "from pyspark.sql import SparkSession\n",
    "from pyspark.sql.functions import translate\n",
    "from pyspark.sql.types import IntegerType\n",
    "from pyspark.ml.feature import StringIndexer\n",
    "\n",
    "from pyspark.ml.feature import VectorIndexer\n",
    "from pyspark.ml.feature import VectorAssembler\n",
    "from pyspark.ml.feature import StandardScaler\n",
    "from pyspark.ml import Pipeline\n",
    "import pandas as pd\n",
    "import numpy as np\n",
    "from pyspark.ml.linalg import Vectors\n",
    "import pyspark.ml.evaluation as ev\n",
    "\n",
    "from pyspark.ml.classification import RandomForestClassifier, GBTClassifier, LogisticRegression\n",
    "\n",
    "from pyspark.ml.tuning import CrossValidator, ParamGridBuilder\n"
   ]
  },
  {
   "cell_type": "code",
   "execution_count": 76,
   "id": "southern-better",
   "metadata": {
    "id": "social-breakdown",
    "outputId": "36847251-da43-4e68-a955-d2482f6b2fcc",
    "tags": []
   },
   "outputs": [],
   "source": [
    "# Once you have uploaded your data we will now need to translate the NULL values to '' \n",
    "newDf = t4_mor.withColumn('CPU_1', translate('CPU_1', 'NULL', '')).withColumn('CPU_2', translate('CPU_2', 'NULL', '')).withColumn('CPU_3', translate('CPU_3', 'NULL', '')).withColumn('Total_CPU', translate('Total_CPU', 'NULL', ''))\\\n",
    "    .withColumn('TotalMemory_freeSize', translate('TotalMemory_freeSize', 'NULL', ''))\n",
    "# With the NULL values now as '' we can change the column type to and Integer to allow for analysis \n",
    "df = newDf.withColumn('CpuGHz', newDf[\"CpuGHz\"].cast(IntegerType())).withColumn('CPU_0', newDf[\"CPU_0\"].cast(IntegerType())).withColumn('CPU_1', newDf[\"CPU_1\"].cast(IntegerType())).withColumn('CPU_2', newDf[\"CPU_2\"].cast(IntegerType())).withColumn('CPU_3', newDf[\"CPU_3\"].cast(IntegerType()))\\\n",
    "    .withColumn('Traffic_MobileRxBytes', newDf[\"Traffic_MobileRxBytes\"].cast(IntegerType()))\\\n",
    "    .withColumn('Traffic_MobileRxPackets', newDf[\"Traffic_MobileRxPackets\"].cast(IntegerType()))\\\n",
    "    .withColumn('Traffic_MobileTxBytes', newDf[\"Traffic_MobileTxBytes\"].cast(IntegerType()))\\\n",
    "    .withColumn('Traffic_MobileTxPackets', newDf[\"Traffic_MobileTxPackets\"].cast(IntegerType()))\\\n",
    "    .withColumn('Traffic_TotalWifiRxBytes', newDf[\"Traffic_TotalWifiRxBytes\"].cast(IntegerType()))\\\n",
    "    .withColumn('Traffic_TotalWifiRxPackets', newDf[\"Traffic_TotalWifiRxPackets\"].cast(IntegerType()))\\\n",
    "    .withColumn('Traffic_TotalWifiTxBytes', newDf[\"Traffic_TotalWifiTxBytes\"].cast(IntegerType()))\\\n",
    "    .withColumn('Traffic_TotalWifiTxPackets', newDf[\"Traffic_TotalWifiTxPackets\"].cast(IntegerType()))\n",
    "\n",
    "\n",
    "\n"
   ]
  },
  {
   "cell_type": "markdown",
   "id": "specialized-obligation",
   "metadata": {
    "id": "removable-distinction"
   },
   "source": [
    "### Define a function which returns the shape of a pySpark dataframe"
   ]
  },
  {
   "cell_type": "code",
   "execution_count": 77,
   "id": "capable-sense",
   "metadata": {
    "id": "directed-penny"
   },
   "outputs": [],
   "source": [
    "import pyspark \n",
    "def spark_shape(self):\n",
    "    return (self.count(), len(self.columns))\n",
    "pyspark.sql.dataframe.DataFrame.shape = spark_shape\n"
   ]
  },
  {
   "cell_type": "code",
   "execution_count": 78,
   "id": "automotive-summer",
   "metadata": {
    "id": "permanent-consumer",
    "outputId": "13e6ecf2-1810-4c38-c07c-df7af37dce71"
   },
   "outputs": [
    {
     "data": {
      "text/plain": [
       "(99990, 27)"
      ]
     },
     "execution_count": 78,
     "metadata": {},
     "output_type": "execute_result"
    }
   ],
   "source": [
    "df = df.dropDuplicates()\n",
    "spark_shape(df)"
   ]
  },
  {
   "cell_type": "markdown",
   "id": "opponent-functionality",
   "metadata": {
    "id": "10d58395-45fa-4e1c-aa55-ca6de948efd4"
   },
   "source": [
    "### Remove all Recieved and Transfered Bytes/Packets that are = 0"
   ]
  },
  {
   "cell_type": "code",
   "execution_count": 79,
   "id": "turned-henry",
   "metadata": {
    "id": "neutral-meeting"
   },
   "outputs": [],
   "source": [
    "df = df.filter((df.Traffic_MobileRxBytes != 0)&(df.Traffic_MobileRxPackets != 0)&(df.Traffic_MobileTxBytes != 0)&(df.Traffic_MobileTxPackets != 0)&(df.Traffic_TotalRxBytes != 0)\n",
    "                   &(df.Traffic_TotalRxPackets != 0)&(df.Traffic_TotalTxBytes != 0)&(df.Traffic_TotalTxPackets != 0)&(df.Traffic_TotalWifiRxBytes != 0)&(df.Traffic_TotalWifiRxPackets != 0)\n",
    "                   &(df.Traffic_TotalWifiTxBytes != 0)&(df.Traffic_TotalWifiTxPackets != 0))"
   ]
  },
  {
   "cell_type": "markdown",
   "id": "dressed-gender",
   "metadata": {
    "id": "4fc55055-869f-47f5-942b-b9ae4283ffed"
   },
   "source": [
    "## The Pipeline"
   ]
  },
  {
   "cell_type": "markdown",
   "id": "paperback-mustang",
   "metadata": {
    "id": "093588b0-1f61-4e61-a9ac-4264a592daf3"
   },
   "source": [
    "### Step One: Build the Assembler using a VectorAssembler\n",
    "A vector assembler combines multiple vectors into a single row-vector; that is, where each row element of the newly generated column is a vector formed by concatenating each row element from the specified input features"
   ]
  },
  {
   "cell_type": "code",
   "execution_count": 80,
   "id": "toxic-solomon",
   "metadata": {
    "id": "younger-logistics"
   },
   "outputs": [],
   "source": [
    "assembler = VectorAssembler().setInputCols(['CpuGHz', 'CPU_0', 'CPU_1','CPU_2', 'CPU_3', \n",
    "                        #'Total_CPU', #'TotalMemory_freeSize',\n",
    "                        #'TotalMemory_max_size', 'TotalMemory_total_size',\n",
    "                        #'TotalMemory_used_size', \n",
    "                        'Traffic_MobileRxBytes', 'Traffic_MobileRxPackets', 'Traffic_MobileTxBytes', 'Traffic_MobileTxPackets', \n",
    "                        #'Traffic_TotalRxBytes', 'Traffic_TotalRxPackets', 'Traffic_TotalTxBytes', 'Traffic_TotalTxPackets', \n",
    "                        'Traffic_TotalWifiRxBytes', 'Traffic_TotalWifiRxPackets', 'Traffic_TotalWifiTxBytes', 'Traffic_TotalWifiTxPackets'])\\\n",
    "                        .setOutputCol(\"vectorized_features\").setHandleInvalid(\"skip\")\n",
    "assembler_df = assembler.transform(df)"
   ]
  },
  {
   "cell_type": "markdown",
   "id": "resistant-authentication",
   "metadata": {
    "id": "0c53199d-a4ad-452f-a5da-320501305d1c"
   },
   "source": [
    "### Step Two: Build the Label Indexer using the StringIndexer function\n",
    "The StringIndexer function is a label indexer that maps a string column of labels to an ML column of label indices. For this we use the sessionType variable as our input column and then set the output column to label. Inside the label column was a dichotomous variable encoding 1 to malicious applications and 0 to benign applications. "
   ]
  },
  {
   "cell_type": "code",
   "execution_count": 81,
   "id": "vulnerable-subject",
   "metadata": {
    "id": "english-internship"
   },
   "outputs": [],
   "source": [
    "label_indexer = StringIndexer().setInputCol(\"sessionType\").setOutputCol(\"label\")"
   ]
  },
  {
   "cell_type": "markdown",
   "id": "social-browse",
   "metadata": {
    "id": "2683c37c-b8a6-428e-afda-89d69c3e2238"
   },
   "source": [
    "### Step Three: Scale the vectorized_features using the StandardScaler function\n",
    "The StandardScaler standardizes a set of features to have zero mean and a standard deviation of 1. What this meant for the SherLock is that for all of our input features that are listed above that we put into the vectorized_features were now scaled down to be between -1 and 1 allowing our data to be standardized."
   ]
  },
  {
   "cell_type": "code",
   "execution_count": 82,
   "id": "desperate-charity",
   "metadata": {
    "id": "humanitarian-clinic"
   },
   "outputs": [],
   "source": [
    "scaler = StandardScaler().setInputCol(\"vectorized_features\").setOutputCol(\"features\")"
   ]
  },
  {
   "cell_type": "markdown",
   "id": "convenient-improvement",
   "metadata": {
    "id": "af8d63ce-d5c1-4e57-ae90-0ea8417995d2"
   },
   "source": [
    "### Step Four: Set the Stages for the Pipeline then Fit and Transform the data into the Pipeline"
   ]
  },
  {
   "cell_type": "code",
   "execution_count": 84,
   "id": "silent-legislation",
   "metadata": {
    "id": "aging-firewall"
   },
   "outputs": [],
   "source": [
    "pipeline_stages=Pipeline().setStages([assembler,label_indexer,scaler])\n",
    "pipeline_model=pipeline_stages.fit(df)\n",
    "pipeline_df=pipeline_model.transform(df)"
   ]
  },
  {
   "cell_type": "markdown",
   "id": "young-sacramento",
   "metadata": {
    "id": "0c9fd0b8-0f2d-432b-9b9d-0e0995ce04ea"
   },
   "source": [
    "### Step Five: Filter out duplicate values and check the shape of the Dataframe"
   ]
  },
  {
   "cell_type": "code",
   "execution_count": 85,
   "id": "durable-primary",
   "metadata": {
    "id": "planned-midwest"
   },
   "outputs": [],
   "source": [
    "pipeline_df = pipeline_df.filter(pipeline_df.label != 2.0)"
   ]
  },
  {
   "cell_type": "code",
   "execution_count": 86,
   "id": "hourly-brain",
   "metadata": {
    "id": "hearing-greek",
    "outputId": "2b3da867-7ef2-408b-c1cd-af04b17fed6b"
   },
   "outputs": [
    {
     "data": {
      "text/plain": [
       "(459, 30)"
      ]
     },
     "execution_count": 86,
     "metadata": {},
     "output_type": "execute_result"
    }
   ],
   "source": [
    "spark_shape(pipeline_df)"
   ]
  },
  {
   "cell_type": "markdown",
   "id": "visible-anatomy",
   "metadata": {
    "id": "995f9989-ce84-45de-86fb-8a3e1ad863d7"
   },
   "source": [
    "## Machine Learning Models & Evaluation"
   ]
  },
  {
   "cell_type": "markdown",
   "id": "classified-celebration",
   "metadata": {
    "id": "c87f7f12-ccea-4665-bacc-8b5f878233c7"
   },
   "source": [
    "### Logistic Regression\n",
    "Logistic regression is utilized to find a prediction in the presence of the input features such as packet transfer levels and hardware performance counters. The process is very similar to a multiple linear regression, with the exception that the response variable is a dichotomous (binary) variable. Logistic regression is a relatively fast supervised classification model compared to the other methods we used in our analysis but where it gains speed it also suffers to some degree in its accuracy. This was extremely important for analyzing the Moriarty data frame since it consisted of 37 million rows and 30 different columns which when running through a model would take a very long time to run. "
   ]
  },
  {
   "cell_type": "code",
   "execution_count": 87,
   "id": "beneficial-antarctica",
   "metadata": {
    "id": "threaded-progress"
   },
   "outputs": [],
   "source": [
    "# We decided to use a 80/20 split to maximize the amount of data that was input into the training set \n",
    "#    while capturing the variance of the dataset.\n",
    "train, test = pipeline_df.randomSplit([0.8,0.2], seed=56)\n",
    "\n",
    "lr = LogisticRegression(featuresCol = 'features', labelCol = 'label', maxIter=5)\n",
    "lrModel = lr.fit(train)\n",
    "LRpredictions = lrModel.transform(test)"
   ]
  },
  {
   "cell_type": "code",
   "execution_count": 96,
   "id": "expensive-introduction",
   "metadata": {},
   "outputs": [
    {
     "ename": "KeyboardInterrupt",
     "evalue": "",
     "output_type": "error",
     "traceback": [
      "\u001b[0;31m---------------------------------------------------------------------------\u001b[0m",
      "\u001b[0;31mIndexError\u001b[0m                                Traceback (most recent call last)",
      "\u001b[0;32m/opt/conda/lib/python3.8/multiprocessing/pool.py\u001b[0m in \u001b[0;36mnext\u001b[0;34m(self, timeout)\u001b[0m\n\u001b[1;32m    850\u001b[0m             \u001b[0;32mtry\u001b[0m\u001b[0;34m:\u001b[0m\u001b[0;34m\u001b[0m\u001b[0;34m\u001b[0m\u001b[0m\n\u001b[0;32m--> 851\u001b[0;31m                 \u001b[0mitem\u001b[0m \u001b[0;34m=\u001b[0m \u001b[0mself\u001b[0m\u001b[0;34m.\u001b[0m\u001b[0m_items\u001b[0m\u001b[0;34m.\u001b[0m\u001b[0mpopleft\u001b[0m\u001b[0;34m(\u001b[0m\u001b[0;34m)\u001b[0m\u001b[0;34m\u001b[0m\u001b[0;34m\u001b[0m\u001b[0m\n\u001b[0m\u001b[1;32m    852\u001b[0m             \u001b[0;32mexcept\u001b[0m \u001b[0mIndexError\u001b[0m\u001b[0;34m:\u001b[0m\u001b[0;34m\u001b[0m\u001b[0;34m\u001b[0m\u001b[0m\n",
      "\u001b[0;31mIndexError\u001b[0m: pop from an empty deque",
      "\nDuring handling of the above exception, another exception occurred:\n",
      "\u001b[0;31mKeyboardInterrupt\u001b[0m                         Traceback (most recent call last)",
      "\u001b[0;32m<ipython-input-96-e009d89b6a52>\u001b[0m in \u001b[0;36m<module>\u001b[0;34m\u001b[0m\n\u001b[1;32m      8\u001b[0m lr_cv = CrossValidator(estimator=lr, estimatorParamMaps=lr_paramGrid,\n\u001b[1;32m      9\u001b[0m                    evaluator=evaluator, numFolds=5)\n\u001b[0;32m---> 10\u001b[0;31m \u001b[0mlr_cvModel\u001b[0m \u001b[0;34m=\u001b[0m \u001b[0mlr_cv\u001b[0m\u001b[0;34m.\u001b[0m\u001b[0mfit\u001b[0m\u001b[0;34m(\u001b[0m\u001b[0mtrain\u001b[0m\u001b[0;34m)\u001b[0m\u001b[0;34m\u001b[0m\u001b[0;34m\u001b[0m\u001b[0m\n\u001b[0m\u001b[1;32m     11\u001b[0m \u001b[0mlr_predictions\u001b[0m \u001b[0;34m=\u001b[0m \u001b[0mlr_cvModel\u001b[0m\u001b[0;34m.\u001b[0m\u001b[0mtransform\u001b[0m\u001b[0;34m(\u001b[0m\u001b[0mtest\u001b[0m\u001b[0;34m)\u001b[0m\u001b[0;34m\u001b[0m\u001b[0;34m\u001b[0m\u001b[0m\n",
      "\u001b[0;32m/usr/local/spark/python/pyspark/ml/base.py\u001b[0m in \u001b[0;36mfit\u001b[0;34m(self, dataset, params)\u001b[0m\n\u001b[1;32m    127\u001b[0m                 \u001b[0;32mreturn\u001b[0m \u001b[0mself\u001b[0m\u001b[0;34m.\u001b[0m\u001b[0mcopy\u001b[0m\u001b[0;34m(\u001b[0m\u001b[0mparams\u001b[0m\u001b[0;34m)\u001b[0m\u001b[0;34m.\u001b[0m\u001b[0m_fit\u001b[0m\u001b[0;34m(\u001b[0m\u001b[0mdataset\u001b[0m\u001b[0;34m)\u001b[0m\u001b[0;34m\u001b[0m\u001b[0;34m\u001b[0m\u001b[0m\n\u001b[1;32m    128\u001b[0m             \u001b[0;32melse\u001b[0m\u001b[0;34m:\u001b[0m\u001b[0;34m\u001b[0m\u001b[0;34m\u001b[0m\u001b[0m\n\u001b[0;32m--> 129\u001b[0;31m                 \u001b[0;32mreturn\u001b[0m \u001b[0mself\u001b[0m\u001b[0;34m.\u001b[0m\u001b[0m_fit\u001b[0m\u001b[0;34m(\u001b[0m\u001b[0mdataset\u001b[0m\u001b[0;34m)\u001b[0m\u001b[0;34m\u001b[0m\u001b[0;34m\u001b[0m\u001b[0m\n\u001b[0m\u001b[1;32m    130\u001b[0m         \u001b[0;32melse\u001b[0m\u001b[0;34m:\u001b[0m\u001b[0;34m\u001b[0m\u001b[0;34m\u001b[0m\u001b[0m\n\u001b[1;32m    131\u001b[0m             raise ValueError(\"Params must be either a param map or a list/tuple of param maps, \"\n",
      "\u001b[0;32m/usr/local/spark/python/pyspark/ml/tuning.py\u001b[0m in \u001b[0;36m_fit\u001b[0;34m(self, dataset)\u001b[0m\n\u001b[1;32m    356\u001b[0m \u001b[0;34m\u001b[0m\u001b[0m\n\u001b[1;32m    357\u001b[0m             \u001b[0mtasks\u001b[0m \u001b[0;34m=\u001b[0m \u001b[0m_parallelFitTasks\u001b[0m\u001b[0;34m(\u001b[0m\u001b[0mest\u001b[0m\u001b[0;34m,\u001b[0m \u001b[0mtrain\u001b[0m\u001b[0;34m,\u001b[0m \u001b[0meva\u001b[0m\u001b[0;34m,\u001b[0m \u001b[0mvalidation\u001b[0m\u001b[0;34m,\u001b[0m \u001b[0mepm\u001b[0m\u001b[0;34m,\u001b[0m \u001b[0mcollectSubModelsParam\u001b[0m\u001b[0;34m)\u001b[0m\u001b[0;34m\u001b[0m\u001b[0;34m\u001b[0m\u001b[0m\n\u001b[0;32m--> 358\u001b[0;31m             \u001b[0;32mfor\u001b[0m \u001b[0mj\u001b[0m\u001b[0;34m,\u001b[0m \u001b[0mmetric\u001b[0m\u001b[0;34m,\u001b[0m \u001b[0msubModel\u001b[0m \u001b[0;32min\u001b[0m \u001b[0mpool\u001b[0m\u001b[0;34m.\u001b[0m\u001b[0mimap_unordered\u001b[0m\u001b[0;34m(\u001b[0m\u001b[0;32mlambda\u001b[0m \u001b[0mf\u001b[0m\u001b[0;34m:\u001b[0m \u001b[0mf\u001b[0m\u001b[0;34m(\u001b[0m\u001b[0;34m)\u001b[0m\u001b[0;34m,\u001b[0m \u001b[0mtasks\u001b[0m\u001b[0;34m)\u001b[0m\u001b[0;34m:\u001b[0m\u001b[0;34m\u001b[0m\u001b[0;34m\u001b[0m\u001b[0m\n\u001b[0m\u001b[1;32m    359\u001b[0m                 \u001b[0mmetrics\u001b[0m\u001b[0;34m[\u001b[0m\u001b[0mj\u001b[0m\u001b[0;34m]\u001b[0m \u001b[0;34m+=\u001b[0m \u001b[0;34m(\u001b[0m\u001b[0mmetric\u001b[0m \u001b[0;34m/\u001b[0m \u001b[0mnFolds\u001b[0m\u001b[0;34m)\u001b[0m\u001b[0;34m\u001b[0m\u001b[0;34m\u001b[0m\u001b[0m\n\u001b[1;32m    360\u001b[0m                 \u001b[0;32mif\u001b[0m \u001b[0mcollectSubModelsParam\u001b[0m\u001b[0;34m:\u001b[0m\u001b[0;34m\u001b[0m\u001b[0;34m\u001b[0m\u001b[0m\n",
      "\u001b[0;32m/opt/conda/lib/python3.8/multiprocessing/pool.py\u001b[0m in \u001b[0;36mnext\u001b[0;34m(self, timeout)\u001b[0m\n\u001b[1;32m    854\u001b[0m                     \u001b[0mself\u001b[0m\u001b[0;34m.\u001b[0m\u001b[0m_pool\u001b[0m \u001b[0;34m=\u001b[0m \u001b[0;32mNone\u001b[0m\u001b[0;34m\u001b[0m\u001b[0;34m\u001b[0m\u001b[0m\n\u001b[1;32m    855\u001b[0m                     \u001b[0;32mraise\u001b[0m \u001b[0mStopIteration\u001b[0m \u001b[0;32mfrom\u001b[0m \u001b[0;32mNone\u001b[0m\u001b[0;34m\u001b[0m\u001b[0;34m\u001b[0m\u001b[0m\n\u001b[0;32m--> 856\u001b[0;31m                 \u001b[0mself\u001b[0m\u001b[0;34m.\u001b[0m\u001b[0m_cond\u001b[0m\u001b[0;34m.\u001b[0m\u001b[0mwait\u001b[0m\u001b[0;34m(\u001b[0m\u001b[0mtimeout\u001b[0m\u001b[0;34m)\u001b[0m\u001b[0;34m\u001b[0m\u001b[0;34m\u001b[0m\u001b[0m\n\u001b[0m\u001b[1;32m    857\u001b[0m                 \u001b[0;32mtry\u001b[0m\u001b[0;34m:\u001b[0m\u001b[0;34m\u001b[0m\u001b[0;34m\u001b[0m\u001b[0m\n\u001b[1;32m    858\u001b[0m                     \u001b[0mitem\u001b[0m \u001b[0;34m=\u001b[0m \u001b[0mself\u001b[0m\u001b[0;34m.\u001b[0m\u001b[0m_items\u001b[0m\u001b[0;34m.\u001b[0m\u001b[0mpopleft\u001b[0m\u001b[0;34m(\u001b[0m\u001b[0;34m)\u001b[0m\u001b[0;34m\u001b[0m\u001b[0;34m\u001b[0m\u001b[0m\n",
      "\u001b[0;32m/opt/conda/lib/python3.8/threading.py\u001b[0m in \u001b[0;36mwait\u001b[0;34m(self, timeout)\u001b[0m\n\u001b[1;32m    300\u001b[0m         \u001b[0;32mtry\u001b[0m\u001b[0;34m:\u001b[0m    \u001b[0;31m# restore state no matter what (e.g., KeyboardInterrupt)\u001b[0m\u001b[0;34m\u001b[0m\u001b[0;34m\u001b[0m\u001b[0m\n\u001b[1;32m    301\u001b[0m             \u001b[0;32mif\u001b[0m \u001b[0mtimeout\u001b[0m \u001b[0;32mis\u001b[0m \u001b[0;32mNone\u001b[0m\u001b[0;34m:\u001b[0m\u001b[0;34m\u001b[0m\u001b[0;34m\u001b[0m\u001b[0m\n\u001b[0;32m--> 302\u001b[0;31m                 \u001b[0mwaiter\u001b[0m\u001b[0;34m.\u001b[0m\u001b[0macquire\u001b[0m\u001b[0;34m(\u001b[0m\u001b[0;34m)\u001b[0m\u001b[0;34m\u001b[0m\u001b[0;34m\u001b[0m\u001b[0m\n\u001b[0m\u001b[1;32m    303\u001b[0m                 \u001b[0mgotit\u001b[0m \u001b[0;34m=\u001b[0m \u001b[0;32mTrue\u001b[0m\u001b[0;34m\u001b[0m\u001b[0;34m\u001b[0m\u001b[0m\n\u001b[1;32m    304\u001b[0m             \u001b[0;32melse\u001b[0m\u001b[0;34m:\u001b[0m\u001b[0;34m\u001b[0m\u001b[0;34m\u001b[0m\u001b[0m\n",
      "\u001b[0;31mKeyboardInterrupt\u001b[0m: "
     ]
    }
   ],
   "source": [
    "evaluator = BinaryClassificationEvaluator(labelCol='label')\n",
    "\n",
    "lr_paramGrid = (ParamGridBuilder()\n",
    "            .addGrid(lr.regParam, [0.01, 0.5, 2.0])\n",
    "            .addGrid(lr.elasticNetParam, [0.0, 0.5, 1.0])\n",
    "            .addGrid(lr.maxIter, [1, 5, 10])\n",
    "            .build())\n",
    "lr_cv = CrossValidator(estimator=lr, estimatorParamMaps=lr_paramGrid,\n",
    "                   evaluator=evaluator, numFolds=5)\n",
    "lr_cvModel = lr_cv.fit(train)\n",
    "lr_predictions = lr_cvModel.transform(test)"
   ]
  },
  {
   "cell_type": "markdown",
   "id": "indoor-minority",
   "metadata": {
    "id": "c0f05d08-ddcd-4c14-948b-e5cda09c332f"
   },
   "source": [
    "#### Show the Actual Values"
   ]
  },
  {
   "cell_type": "code",
   "execution_count": 88,
   "id": "underlying-mortality",
   "metadata": {
    "id": "d746f79d-e414-44e5-997c-b508c2d3b6a6"
   },
   "outputs": [
    {
     "name": "stdout",
     "output_type": "stream",
     "text": [
      "+-----+-----+\n",
      "|label|count|\n",
      "+-----+-----+\n",
      "|  0.0|   82|\n",
      "|  1.0|   14|\n",
      "+-----+-----+\n",
      "\n"
     ]
    }
   ],
   "source": [
    "LRpredictions.groupBy(\"label\").count().show()"
   ]
  },
  {
   "cell_type": "markdown",
   "id": "lesser-football",
   "metadata": {
    "id": "f46f22bf-fa0d-4abe-a63a-0065479f77f3"
   },
   "source": [
    "#### Show the Predicted Values"
   ]
  },
  {
   "cell_type": "code",
   "execution_count": 89,
   "id": "excellent-frost",
   "metadata": {
    "id": "7167a61a-81c3-4d8e-8683-207716125d5d"
   },
   "outputs": [
    {
     "name": "stdout",
     "output_type": "stream",
     "text": [
      "+----------+-----+\n",
      "|prediction|count|\n",
      "+----------+-----+\n",
      "|       0.0|   96|\n",
      "+----------+-----+\n",
      "\n"
     ]
    }
   ],
   "source": [
    "LRpredictions.groupBy(\"prediction\").count().show()"
   ]
  },
  {
   "cell_type": "markdown",
   "id": "documented-staff",
   "metadata": {
    "id": "dbfc5aa7-a11a-4904-8285-47b5691a9e00"
   },
   "source": [
    "## Random Forest\n",
    "Random Forest derives its name from the “forest” it builds, including an ensemble of decision trees trained with a “bagging” method to combine the trees, increasing the overall Accuracy.  Using a Random Forest Classifier in our analysis was essential since it is known for reducing overfitting in decision trees to help improve the accuracy. Since Random Forest builds numerous trees and combines their outputs to improve accuracy it requires a large amount of computational power. "
   ]
  },
  {
   "cell_type": "code",
   "execution_count": null,
   "id": "combined-davis",
   "metadata": {
    "id": "enhanced-ordinance"
   },
   "outputs": [],
   "source": [
    "rf = RandomForestClassifier(maxDepth = 10, minInstancesPerNode = 4)\n",
    "rfModel = rf.fit(train)\n",
    "RFpredictions = rfModel.transform(test)"
   ]
  },
  {
   "cell_type": "markdown",
   "id": "coupled-marketplace",
   "metadata": {
    "id": "831cb8c2-982a-4a79-a98b-93906f982389"
   },
   "source": [
    "#### Show the Actual Values"
   ]
  },
  {
   "cell_type": "code",
   "execution_count": null,
   "id": "ready-roberts",
   "metadata": {
    "id": "specific-lancaster",
    "outputId": "14d69fa2-5961-4f23-cc9d-4dc2b3e978bf"
   },
   "outputs": [
    {
     "name": "stdout",
     "output_type": "stream",
     "text": [
      "+-----+-----+\n",
      "|label|count|\n",
      "+-----+-----+\n",
      "|  0.0|32034|\n",
      "|  1.0| 5509|\n",
      "+-----+-----+\n",
      "\n"
     ]
    }
   ],
   "source": [
    "RFpredictions.groupBy(\"label\").count().show()"
   ]
  },
  {
   "cell_type": "markdown",
   "id": "referenced-source",
   "metadata": {
    "id": "84945cc6-e60d-4d7b-902c-d26f4c6aa0db"
   },
   "source": [
    "#### Show the Predicted Values"
   ]
  },
  {
   "cell_type": "code",
   "execution_count": null,
   "id": "noble-sauce",
   "metadata": {
    "id": "blank-arkansas",
    "outputId": "41cbbae4-42aa-4afb-cbc8-4aef9948f33e"
   },
   "outputs": [
    {
     "name": "stdout",
     "output_type": "stream",
     "text": [
      "+----------+-----+\n",
      "|prediction|count|\n",
      "+----------+-----+\n",
      "|       0.0|36412|\n",
      "|       1.0| 1131|\n",
      "+----------+-----+\n",
      "\n"
     ]
    }
   ],
   "source": [
    "RFpredsictionsgroupBy(\"prediction\").count().show()"
   ]
  },
  {
   "cell_type": "markdown",
   "id": "suitable-hello",
   "metadata": {
    "id": "fd7065a5-bdd7-479b-ab8e-9fa44f67de6c"
   },
   "source": [
    "### Gradient Boosting Tree\n",
    "Gradient Boosting Trees involve three different elements, a loss function to be optimized, a weak learner to make predictions, and an additive model to add weak learners to minimize the loss function. The name gradient boosting arises because target outcomes for each case are set based on the gradient of the error with respect to the prediction. Each new model takes a step in the direction that minimizes prediction error, in the space of possible predictions for each training case. The challenge presented by the SherLock dataset, even in its reduced fashion, was the high number of samples which contained low values that were our logistic learning algorithm’s predictive power. With a tree, these samples could be subsetted into a weak learner group. With an ensemble of trees, these weak learners could be combined to be stronger, thus, the natural direction we took was towards a Boosting model. At the expense of interpretability, our team landed on Gradient Boosted Trees as our final model."
   ]
  },
  {
   "cell_type": "code",
   "execution_count": null,
   "id": "overhead-mexico",
   "metadata": {
    "id": "oriental-pitch"
   },
   "outputs": [],
   "source": [
    "train, test = pipeline_df.randomSplit([0.8,0.2], seed=56)\n",
    "\n",
    "gbt = GBTClassifier(labelCol='label')\n",
    "\n",
    "gbtModel = gbt.fit(train)\n",
    "GBTpredictions = gbtModel.transform(test)"
   ]
  },
  {
   "cell_type": "markdown",
   "id": "pressing-paris",
   "metadata": {
    "id": "a5b95024-7660-4509-a9f0-e7791ac9d669"
   },
   "source": [
    "#### Show the Actual Values"
   ]
  },
  {
   "cell_type": "code",
   "execution_count": null,
   "id": "serious-optimization",
   "metadata": {
    "id": "pharmaceutical-advocacy",
    "outputId": "8ed267b1-365b-4ef0-9088-f84adda58f8f"
   },
   "outputs": [
    {
     "name": "stdout",
     "output_type": "stream",
     "text": [
      "+-----+-----+\n",
      "|label|count|\n",
      "+-----+-----+\n",
      "|  0.0|32034|\n",
      "|  1.0| 5509|\n",
      "+-----+-----+\n",
      "\n"
     ]
    }
   ],
   "source": [
    "GBTpredictions.groupBy(\"label\").count().show()"
   ]
  },
  {
   "cell_type": "markdown",
   "id": "suspected-shepherd",
   "metadata": {
    "id": "a1af0514-59d1-4be6-b188-ad12a97f8ac3"
   },
   "source": [
    "#### Show the Predicted Values"
   ]
  },
  {
   "cell_type": "code",
   "execution_count": null,
   "id": "judicial-beatles",
   "metadata": {
    "id": "inner-philippines",
    "outputId": "9e8ec7cb-5efd-4659-e1af-f5c3bf4115ed"
   },
   "outputs": [
    {
     "name": "stdout",
     "output_type": "stream",
     "text": [
      "+----------+-----+\n",
      "|prediction|count|\n",
      "+----------+-----+\n",
      "|       0.0|36442|\n",
      "|       1.0| 1101|\n",
      "+----------+-----+\n",
      "\n"
     ]
    }
   ],
   "source": [
    "GBTpredictions.groupBy(\"prediction\").count().show()"
   ]
  },
  {
   "cell_type": "markdown",
   "id": "industrial-audience",
   "metadata": {
    "id": "vulnerable-nitrogen"
   },
   "source": [
    "## Evaluation"
   ]
  },
  {
   "cell_type": "code",
   "execution_count": null,
   "id": "soviet-volleyball",
   "metadata": {
    "id": "surprising-while",
    "outputId": "87816f87-4a65-47f5-b6ce-b387bf82b8e1"
   },
   "outputs": [
    {
     "name": "stdout",
     "output_type": "stream",
     "text": [
      "0.5948216800372059\n",
      "0.6289512249102381\n"
     ]
    }
   ],
   "source": [
    "evaluator = ev.BinaryClassificationEvaluator(rawPredictionCol='prediction', labelCol='label')\n",
    "\n",
    "print(evaluator.evaluate(predictions, {evaluator.metricName: 'areaUnderROC'}))\n",
    "print(evaluator.evaluate(predictions, {evaluator.metricName: 'areaUnderPR'}))"
   ]
  },
  {
   "cell_type": "markdown",
   "id": "chinese-malaysia",
   "metadata": {},
   "source": [
    "#### Evaluation of logistic regression model"
   ]
  },
  {
   "cell_type": "code",
   "execution_count": null,
   "id": "intimate-independence",
   "metadata": {},
   "outputs": [],
   "source": [
    "import pyspark.ml.evaluation as ev\n",
    "\n",
    "evaluator = ev.BinaryClassificationEvaluator(rawPredictionCol='prediction', labelCol='label')\n",
    "\n",
    "print(evaluator.evaluate(LRpredictions, {evaluator.metricName: 'areaUnderROC'}))\n",
    "print(evaluator.evaluate(LRpredictions, {evaluator.metricName: 'areaUnderPR'}))"
   ]
  },
  {
   "cell_type": "markdown",
   "id": "republican-pantyhose",
   "metadata": {},
   "source": [
    "#### Evaluation of Random Forest"
   ]
  },
  {
   "cell_type": "code",
   "execution_count": null,
   "id": "sunrise-smooth",
   "metadata": {
    "id": "western-eugene",
    "outputId": "ebd2701d-0b1d-4288-d2fa-58df6a7c9198"
   },
   "outputs": [
    {
     "name": "stdout",
     "output_type": "stream",
     "text": [
      "0.599671877038706\n",
      "0.6439314859236297\n"
     ]
    }
   ],
   "source": [
    "import pyspark.ml.evaluation as ev\n",
    "\n",
    "evaluator = ev.BinaryClassificationEvaluator(rawPredictionCol='prediction', labelCol='label')\n",
    "\n",
    "print(evaluator.evaluate(RFpredictions, {evaluator.metricName: 'areaUnderROC'}))\n",
    "print(evaluator.evaluate(RFpredictions, {evaluator.metricName: 'areaUnderPR'}))"
   ]
  },
  {
   "cell_type": "markdown",
   "id": "spoken-chile",
   "metadata": {},
   "source": [
    "#### Evaluation of Gradient Boost"
   ]
  },
  {
   "cell_type": "code",
   "execution_count": null,
   "id": "liberal-knitting",
   "metadata": {},
   "outputs": [],
   "source": [
    "import pyspark.ml.evaluation as ev\n",
    "\n",
    "evaluator = ev.BinaryClassificationEvaluator(rawPredictionCol='prediction', labelCol='label')\n",
    "\n",
    "print(evaluator.evaluate(gbtPreds, {evaluator.metricName: 'areaUnderROC'}))\n",
    "print(evaluator.evaluate(gbtPreds, {evaluator.metricName: 'areaUnderPR'}))"
   ]
  },
  {
   "cell_type": "markdown",
   "id": "sapphire-neighbor",
   "metadata": {
    "id": "realistic-yukon"
   },
   "source": [
    "## Storing Models and Predictions"
   ]
  },
  {
   "cell_type": "markdown",
   "id": "double-capability",
   "metadata": {},
   "source": [
    "#### overwriting saves for models"
   ]
  },
  {
   "cell_type": "code",
   "execution_count": null,
   "id": "composed-premises",
   "metadata": {
    "id": "alike-roommate"
   },
   "outputs": [],
   "source": [
    "rfModel.write().overwrite().save(\"/home/jovyan/Sherlock/models/rf_model\")"
   ]
  },
  {
   "cell_type": "code",
   "execution_count": null,
   "id": "valuable-demand",
   "metadata": {
    "id": "facial-farming"
   },
   "outputs": [],
   "source": [
    "gbtModel.write().overwrite().save(\"/home/jovyan/Sherlock/models/gbt_model2\")\n",
    "rfModel.write().overwrite().save(\"/home/jovyan/Sherlock/models/rf_model\")"
   ]
  },
  {
   "cell_type": "markdown",
   "id": "frank-honduras",
   "metadata": {},
   "source": [
    "#### saving prediction to CSV"
   ]
  },
  {
   "cell_type": "code",
   "execution_count": null,
   "id": "urban-uzbekistan",
   "metadata": {
    "id": "activated-purpose"
   },
   "outputs": [],
   "source": [
    "predictions.toPandas().to_csv(\"/home/jovyan/SherLock/csvs/preds2.csv\")"
   ]
  },
  {
   "cell_type": "code",
   "execution_count": null,
   "id": "spread-pledge",
   "metadata": {
    "id": "automotive-consumption"
   },
   "outputs": [],
   "source": [
    "rfPreds.toPandas().to_csv(\"/home/jovyan/SherLock/csvs/rfPreds.csv\")"
   ]
  },
  {
   "cell_type": "code",
   "execution_count": null,
   "id": "sexual-theater",
   "metadata": {
    "id": "living-correspondence"
   },
   "outputs": [],
   "source": [
    "rfPreds = pd.read_csv(\"/home/jovyan/SherLock/csvs/rfPreds.csv\")"
   ]
  },
  {
   "cell_type": "code",
   "execution_count": null,
   "id": "local-textbook",
   "metadata": {
    "id": "material-words"
   },
   "outputs": [],
   "source": [
    "preds = pd.read_csv(\"/home/jovyan/SherLock/csvs/rfPreds.csv\")"
   ]
  },
  {
   "cell_type": "code",
   "execution_count": null,
   "id": "second-affiliation",
   "metadata": {
    "id": "conservative-exchange"
   },
   "outputs": [],
   "source": [
    "from sklearn.metrics import confusion_matrix"
   ]
  },
  {
   "cell_type": "markdown",
   "id": "varying-lottery",
   "metadata": {
    "id": "responsible-banner"
   },
   "source": [
    "### Extract malicious probabilities from the output dataframe"
   ]
  },
  {
   "cell_type": "code",
   "execution_count": null,
   "id": "timely-democrat",
   "metadata": {
    "id": "valid-college"
   },
   "outputs": [],
   "source": [
    "def mal_probs_col(df):\n",
    "    df['malicious_probs'] = df.apply(lambda x: x['probability'].replace('[', '').replace(']','').split(','),axis=1).map(lambda x: float(x[1]))"
   ]
  },
  {
   "cell_type": "markdown",
   "id": "maritime-charge",
   "metadata": {
    "id": "excited-piece"
   },
   "source": [
    "## Homemade ROC"
   ]
  },
  {
   "cell_type": "code",
   "execution_count": null,
   "id": "worth-nirvana",
   "metadata": {
    "id": "convenient-source"
   },
   "outputs": [],
   "source": [
    "def roc_curve(df): \n",
    "    thresholds = [i for i in np.arange(0,1,0.008)]\n",
    "    curve_vals = pd.DataFrame()\n",
    "    for thresh in thresholds:\n",
    "        df['thresh_preds'] = np.where(df['malicious_probs']>= thresh, 1, 0)\n",
    "        TP = confusion_matrix(df.label, df.thresh_preds)[1][1]\n",
    "        FP = confusion_matrix(df.label, df.thresh_preds)[0][1]\n",
    "        TN = confusion_matrix(df.label, df.thresh_preds)[0][0]\n",
    "        FN = confusion_matrix(df.label, df.thresh_preds)[1][0]\n",
    "        TPR = TP/(TP+FN)\n",
    "        FPR = FP/(FP+TN)\n",
    "        curve_vals = curve_vals.append({'TPR' : TPR, 'FPR' : FPR}, ignore_index = True)\n",
    "    return curve_vals"
   ]
  },
  {
   "cell_type": "code",
   "execution_count": null,
   "id": "stopped-picture",
   "metadata": {
    "id": "allied-stream"
   },
   "outputs": [],
   "source": [
    "gbtROC2 = roc_curve(preds)\n",
    "rfROC = roc_curve(rfPreds)"
   ]
  },
  {
   "cell_type": "code",
   "execution_count": null,
   "id": "viral-combination",
   "metadata": {
    "id": "consolidated-france",
    "outputId": "ae1a8718-286e-4b39-82d2-de88d6bb3918"
   },
   "outputs": [
    {
     "data": {
      "text/plain": [
       "[<matplotlib.lines.Line2D at 0x7fe887a43af0>]"
      ]
     },
     "execution_count": 284,
     "metadata": {
      "tags": []
     },
     "output_type": "execute_result"
    },
    {
     "data": {
      "image/png": "[encoded data removed]",
      "text/plain": [
       "<Figure size 432x288 with 1 Axes>"
      ]
     },
     "metadata": {
      "needs_background": "light",
      "tags": []
     },
     "output_type": "display_data"
    }
   ],
   "source": [
    "plt.pyplot.plot(rfROC['FPR'], rfROC['TPR'])"
   ]
  },
  {
   "cell_type": "code",
   "execution_count": null,
   "id": "intellectual-national",
   "metadata": {
    "collapsed": true,
    "id": "quantitative-marijuana",
    "jupyter": {
     "outputs_hidden": true
    },
    "outputId": "91c867ba-2556-4925-b291-6452ad7d60b7"
   },
   "outputs": [
    {
     "data": {
      "text/plain": [
       "[<matplotlib.lines.Line2D at 0x7fe887b3ee50>]"
      ]
     },
     "execution_count": 275,
     "metadata": {
      "tags": []
     },
     "output_type": "execute_result"
    },
    {
     "data": {
      "image/png": "[encoded data removed]",
      "text/plain": [
       "<Figure size 432x288 with 1 Axes>"
      ]
     },
     "metadata": {
      "needs_background": "light",
      "tags": []
     },
     "output_type": "display_data"
    }
   ],
   "source": [
    "plt.pyplot.plot(gbtROC['FPR'], gbtROC['TPR'])"
   ]
  },
  {
   "cell_type": "markdown",
   "id": "miniature-trading",
   "metadata": {},
   "source": [
    "### Load and get best features"
   ]
  },
  {
   "cell_type": "code",
   "execution_count": 106,
   "id": "under-kingdom",
   "metadata": {},
   "outputs": [],
   "source": [
    "from pyspark.ml.pipeline import PipelineModel\n",
    "from pyspark.ml.classification import RandomForestClassificationModel\n",
    "\n",
    "persistedModel = RandomForestClassificationModel.load(\"/home/jovyan/SherLock/models/rf_model\")"
   ]
  },
  {
   "cell_type": "code",
   "execution_count": 108,
   "id": "color-length",
   "metadata": {},
   "outputs": [],
   "source": [
    "preds = persistedModel.transform(test)"
   ]
  },
  {
   "cell_type": "code",
   "execution_count": 131,
   "id": "weighted-toyota",
   "metadata": {},
   "outputs": [],
   "source": [
    "from pyspark.ml.classification import RandomForestClassifier\n",
    "featImps = persistedModel.featureImportances"
   ]
  },
  {
   "cell_type": "code",
   "execution_count": 145,
   "id": "developmental-round",
   "metadata": {},
   "outputs": [],
   "source": [
    "featureNames = ['CpuGHz', 'CPU_0', 'CPU_1','CPU_2', 'CPU_3', 'Traffic_MobileRxBytes', 'Traffic_MobileRxPackets', 'Traffic_MobileTxBytes', 'Traffic_MobileTxPackets', 'Traffic_TotalWifiRxBytes', 'Traffic_TotalWifiRxPackets', 'Traffic_TotalWifiTxBytes', 'Traffic_TotalWifiTxPackets']"
   ]
  },
  {
   "cell_type": "code",
   "execution_count": 150,
   "id": "breeding-defense",
   "metadata": {},
   "outputs": [
    {
     "name": "stdout",
     "output_type": "stream",
     "text": [
      "13\n",
      "17\n"
     ]
    }
   ],
   "source": [
    "print(len(featureNames))\n",
    "print(len(featImps))"
   ]
  },
  {
   "cell_type": "code",
   "execution_count": 153,
   "id": "hawaiian-semiconductor",
   "metadata": {},
   "outputs": [
    {
     "name": "stdout",
     "output_type": "stream",
     "text": [
      "0.058324498228448665\n",
      "0.08905141581938969\n",
      "0.026195291141217943\n",
      "0.025152576881328326\n",
      "0.024023290265434254\n",
      "0.05395108328049349\n",
      "0.05116106328635358\n",
      "0.03076296360947355\n",
      "0.05769145203140399\n",
      "0.0720544109646006\n",
      "0.057219607979956066\n",
      "0.0893004024994682\n",
      "0.04379398039299677\n",
      "0.08596818103567494\n",
      "0.06735573660309949\n",
      "0.09148672217947164\n",
      "0.07650732380118887\n"
     ]
    }
   ],
   "source": [
    "featsDF = pd.DataFrame(columns = ['feature', 'importance'])\n",
    "for feat in featImps:\n",
    "    print(feat)"
   ]
  },
  {
   "cell_type": "markdown",
   "id": "matched-characterization",
   "metadata": {},
   "source": [
    "### Future steps would be to find a way to map these values back to the feature names. However, we have no way to do that with PySpark, which may or may not keep track of order"
   ]
  }
 ],
 "metadata": {
  "colab": {
   "name": "t4_mor_join.ipynb",
   "provenance": []
  },
  "kernelspec": {
   "display_name": "Python 3",
   "language": "python",
   "name": "python3"
  },
  "language_info": {
   "codemirror_mode": {
    "name": "ipython",
    "version": 3
   },
   "file_extension": ".py",
   "mimetype": "text/x-python",
   "name": "python",
   "nbconvert_exporter": "python",
   "pygments_lexer": "ipython3",
   "version": "3.8.6"
  }
 },
 "nbformat": 4,
 "nbformat_minor": 5
}
