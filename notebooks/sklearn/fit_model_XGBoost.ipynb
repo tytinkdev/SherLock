{
 "cells": [
  {
   "cell_type": "code",
   "execution_count": 4,
   "id": "local-location",
   "metadata": {},
   "outputs": [
    {
     "name": "stdout",
     "output_type": "stream",
     "text": [
      "Collecting xgboost\n",
      "  Downloading xgboost-1.4.1-py3-none-manylinux2010_x86_64.whl (166.7 MB)\n",
      "\u001b[K     |████████████████████████████████| 166.7 MB 81 kB/s s eta 0:00:01    |████▍                           | 22.8 MB 10.3 MB/s eta 0:00:15     |█████████████▉                  | 72.0 MB 23.2 MB/s eta 0:00:05     |██████████████████████████████▉ | 160.9 MB 27.2 MB/s eta 0:00:01\n",
      "\u001b[?25hRequirement already satisfied: scipy in /opt/conda/lib/python3.8/site-packages (from xgboost) (1.6.0)\n",
      "Requirement already satisfied: numpy in /opt/conda/lib/python3.8/site-packages (from xgboost) (1.20.1)\n",
      "Installing collected packages: xgboost\n",
      "Successfully installed xgboost-1.4.1\n",
      "Note: you may need to restart the kernel to use updated packages.\n"
     ]
    }
   ],
   "source": [
    "pip install xgboost"
   ]
  },
  {
   "cell_type": "code",
   "execution_count": 1,
   "id": "gothic-major",
   "metadata": {},
   "outputs": [],
   "source": [
    "import pandas as pd\n",
    "import numpy as np\n",
    "\n",
    "from xgboost import XGBClassifier\n",
    "from sklearn.preprocessing import StandardScaler\n",
    "from sklearn.datasets import make_classification\n",
    "from sklearn.model_selection import train_test_split\n",
    "from sklearn.pipeline import Pipeline\n",
    "from sklearn.model_selection import cross_val_score\n",
    "import time\n",
    "\n",
    "import pickle"
   ]
  },
  {
   "cell_type": "code",
   "execution_count": null,
   "id": "narrative-video",
   "metadata": {},
   "outputs": [],
   "source": [
    "url = '/home/jovyan/SherLock/csvs/t4_mor.csv'\n",
    "df = pd.read_csv(url)"
   ]
  },
  {
   "cell_type": "code",
   "execution_count": 7,
   "id": "utility-lincoln",
   "metadata": {
    "tags": []
   },
   "outputs": [],
   "source": [
    "url = 'https://www.dropbox.com/s/ilgw0ivqtu8beba/t4_mor.csv?dl=1'\n",
    "df = pd.read_csv(url)"
   ]
  },
  {
   "cell_type": "code",
   "execution_count": 1,
   "id": "experienced-junction",
   "metadata": {},
   "outputs": [
    {
     "ename": "NameError",
     "evalue": "name 'df' is not defined",
     "output_type": "error",
     "traceback": [
      "\u001b[0;31m---------------------------------------------------------------------------\u001b[0m",
      "\u001b[0;31mNameError\u001b[0m                                 Traceback (most recent call last)",
      "\u001b[0;32m<ipython-input-1-a2154f25a955>\u001b[0m in \u001b[0;36m<module>\u001b[0;34m\u001b[0m\n\u001b[0;32m----> 1\u001b[0;31m \u001b[0mdf\u001b[0m\u001b[0;34m[\u001b[0m\u001b[0;34m'sessionTypeBinary'\u001b[0m\u001b[0;34m]\u001b[0m \u001b[0;34m=\u001b[0m \u001b[0;34m(\u001b[0m\u001b[0mdf\u001b[0m\u001b[0;34m[\u001b[0m\u001b[0;34m'sessionType'\u001b[0m\u001b[0;34m]\u001b[0m \u001b[0;34m==\u001b[0m \u001b[0;34m'malicious'\u001b[0m\u001b[0;34m)\u001b[0m\u001b[0;34m.\u001b[0m\u001b[0mastype\u001b[0m\u001b[0;34m(\u001b[0m\u001b[0;34m'int'\u001b[0m\u001b[0;34m)\u001b[0m\u001b[0;34m\u001b[0m\u001b[0;34m\u001b[0m\u001b[0m\n\u001b[0m\u001b[1;32m      2\u001b[0m \u001b[0morg_df_len\u001b[0m \u001b[0;34m=\u001b[0m \u001b[0mlen\u001b[0m\u001b[0;34m(\u001b[0m\u001b[0mdf\u001b[0m\u001b[0;34m)\u001b[0m\u001b[0;34m\u001b[0m\u001b[0;34m\u001b[0m\u001b[0m\n",
      "\u001b[0;31mNameError\u001b[0m: name 'df' is not defined"
     ]
    }
   ],
   "source": [
    "df['sessionTypeBinary'] = (df['sessionType'] == 'malicious').astype('int')\n",
    "org_df_len = len(df)"
   ]
  },
  {
   "cell_type": "code",
   "execution_count": null,
   "id": "frank-steal",
   "metadata": {},
   "outputs": [],
   "source": [
    "array = df.values"
   ]
  },
  {
   "cell_type": "code",
   "execution_count": null,
   "id": "cubic-shoot",
   "metadata": {
    "tags": []
   },
   "outputs": [],
   "source": [
    "X = array[:,4:26].astype(float)\n",
    "y = df.sessionTypeBinary.astype(int)\n",
    "test_size = 0.2\n",
    "seed = 42"
   ]
  },
  {
   "cell_type": "code",
   "execution_count": null,
   "id": "offshore-socket",
   "metadata": {},
   "outputs": [],
   "source": [
    "X, y = X,y \n",
    "\n",
    "X_train, X_test, y_train, y_test = train_test_split(X, y, \n",
    "                                                    test_size=test_size, \n",
    "                                                    random_state=seed)\n",
    "\n",
    "start_time = time.time()\n",
    "\n",
    "pipe = Pipeline([('scaler', StandardScaler()), ('classifier', XGBClassifier(eval_metric = 'logloss', n_jobs=4, use_label_encoder=False))])\n",
    "# The pipeline can be used as any other estimator\n",
    "# and avoids leaking the test set into the train set\n",
    "pipe.fit(X_train, y_train)\n",
    "# Check the model performance \n",
    "print(pipe.score(X_test, y_test))\n",
    "\n",
    "#record the time it took\n",
    "print(\"--- Time to push through pipeline: %s seconds ---\" % (time.time() - start_time))\n",
    "\n",
    "# Dump pickle to a file\n",
    "filename = 'model2.pkl'\n",
    "pickle.dump(pipe, open(filename, 'wb'))"
   ]
  },
  {
   "cell_type": "code",
   "execution_count": null,
   "id": "distributed-minority",
   "metadata": {},
   "outputs": [],
   "source": [
    "from newdata import newdata"
   ]
  },
  {
   "cell_type": "code",
   "execution_count": 2,
   "id": "damaged-fifth",
   "metadata": {},
   "outputs": [],
   "source": [
    "import json\n",
    "\n",
    "with open('newdata.py', 'w') as f:\n",
    "    json.dump(newdata, f)"
   ]
  },
  {
   "cell_type": "code",
   "execution_count": 3,
   "id": "documentary-issue",
   "metadata": {},
   "outputs": [],
   "source": [
    "import json\n",
    "\n",
    "with open('newdata.py', 'r') as f:\n",
    "    newdata = json.load(f)"
   ]
  }
 ],
 "metadata": {
  "kernelspec": {
   "display_name": "Python 3",
   "language": "python",
   "name": "python3"
  },
  "language_info": {
   "codemirror_mode": {
    "name": "ipython",
    "version": 3
   },
   "file_extension": ".py",
   "mimetype": "text/x-python",
   "name": "python",
   "nbconvert_exporter": "python",
   "pygments_lexer": "ipython3",
   "version": "3.8.6"
  }
 },
 "nbformat": 4,
 "nbformat_minor": 5
}
