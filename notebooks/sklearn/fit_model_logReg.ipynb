{
 "cells": [
  {
   "cell_type": "code",
   "execution_count": 2,
   "id": "moving-caribbean",
   "metadata": {},
   "outputs": [],
   "source": [
    "import pandas as pd\n",
    "import numpy as np\n",
    "\n",
    "#from xgboost import XGBRegressor \n",
    "from sklearn.linear_model import LogisticRegression\n",
    "from sklearn.preprocessing import StandardScaler\n",
    "from sklearn.datasets import make_classification\n",
    "from sklearn.model_selection import train_test_split\n",
    "from sklearn.pipeline import Pipeline\n",
    "from sklearn.model_selection import cross_val_score\n",
    "\n",
    "import pickle"
   ]
  },
  {
   "cell_type": "code",
   "execution_count": 3,
   "id": "unlimited-zimbabwe",
   "metadata": {},
   "outputs": [],
   "source": [
    "url = '/home/jovyan/SherLock/csvs/t4_mor_head.csv'\n",
    "df = pd.read_csv(url)"
   ]
  },
  {
   "cell_type": "code",
   "execution_count": 16,
   "id": "hydraulic-scottish",
   "metadata": {},
   "outputs": [],
   "source": [
    "url = 'https://www.dropbox.com/s/uncqgj7qhiq4ds0/t4_mor_head.csv?dl=1'\n",
    "df = pd.read_csv(url)"
   ]
  },
  {
   "cell_type": "code",
   "execution_count": 4,
   "id": "collected-yugoslavia",
   "metadata": {},
   "outputs": [],
   "source": [
    "df['sessionTypeBinary'] = (df['sessionType'] == 'malicious').astype('int')"
   ]
  },
  {
   "cell_type": "code",
   "execution_count": 5,
   "id": "adaptive-jurisdiction",
   "metadata": {},
   "outputs": [],
   "source": [
    "# drop the duplicates, if any\n",
    "def drop_rows(df):\n",
    "    org_df_len = len(df)\n",
    "    df = df.drop_duplicates()\n",
    "    df = df.dropna(axis = 0)\n",
    "    new_df_len = len(df)\n",
    "    rows_dropped = (org_df_len - new_df_len)\n",
    "    print(f'Rows dropped: {rows_dropped}')\n",
    "    return df"
   ]
  },
  {
   "cell_type": "code",
   "execution_count": 6,
   "id": "proud-summary",
   "metadata": {},
   "outputs": [
    {
     "name": "stdout",
     "output_type": "stream",
     "text": [
      "Rows dropped: 8090\n"
     ]
    }
   ],
   "source": [
    "df = drop_rows(df)"
   ]
  },
  {
   "cell_type": "code",
   "execution_count": 7,
   "id": "appropriate-lesson",
   "metadata": {},
   "outputs": [],
   "source": [
    "array = df.values"
   ]
  },
  {
   "cell_type": "code",
   "execution_count": 8,
   "id": "accompanied-campaign",
   "metadata": {},
   "outputs": [],
   "source": [
    "X = array[:,4:26].astype(float)\n",
    "y = df.sessionTypeBinary.astype(float)\n",
    "test_size = 0.2\n",
    "seed = 0"
   ]
  },
  {
   "cell_type": "code",
   "execution_count": 267,
   "id": "everyday-external",
   "metadata": {},
   "outputs": [
    {
     "data": {
      "text/plain": [
       "array([[1.10000000e+00, 6.66666700e+00, 1.87500000e+01, 0.00000000e+00,\n",
       "        2.22222230e+01, 1.19097230e+01, 1.71206080e+07, 1.34217728e+08,\n",
       "        3.74292480e+07, 2.03086400e+07, 0.00000000e+00, 0.00000000e+00,\n",
       "        0.00000000e+00, 0.00000000e+00, 0.00000000e+00, 0.00000000e+00,\n",
       "        0.00000000e+00, 0.00000000e+00, 0.00000000e+00, 0.00000000e+00,\n",
       "        0.00000000e+00, 0.00000000e+00],\n",
       "       [7.29000000e-01, 0.00000000e+00, 5.88235300e+00, 0.00000000e+00,\n",
       "        5.88235300e+00, 2.94117640e+00, 8.84241600e+06, 1.34217728e+08,\n",
       "        2.85941760e+07, 1.97517600e+07, 0.00000000e+00, 0.00000000e+00,\n",
       "        0.00000000e+00, 0.00000000e+00, 0.00000000e+00, 0.00000000e+00,\n",
       "        0.00000000e+00, 0.00000000e+00, 0.00000000e+00, 0.00000000e+00,\n",
       "        0.00000000e+00, 0.00000000e+00],\n",
       "       [1.40000000e+00, 1.87500000e+01, 0.00000000e+00, 0.00000000e+00,\n",
       "        0.00000000e+00, 4.68750000e+00, 7.56252800e+06, 1.34217728e+08,\n",
       "        2.89498420e+07, 2.13873140e+07, 0.00000000e+00, 0.00000000e+00,\n",
       "        0.00000000e+00, 0.00000000e+00, 0.00000000e+00, 0.00000000e+00,\n",
       "        0.00000000e+00, 0.00000000e+00, 0.00000000e+00, 0.00000000e+00,\n",
       "        0.00000000e+00, 0.00000000e+00]])"
      ]
     },
     "execution_count": 267,
     "metadata": {},
     "output_type": "execute_result"
    }
   ],
   "source": [
    "# select two random rows as newdata\n",
    "X[[150,1000000,1200000]]"
   ]
  },
  {
   "cell_type": "code",
   "execution_count": 9,
   "id": "sudden-logistics",
   "metadata": {},
   "outputs": [
    {
     "name": "stdout",
     "output_type": "stream",
     "text": [
      "0.5563111429253161\n"
     ]
    }
   ],
   "source": [
    "X, y = X,y \n",
    "X_train, X_test, y_train, y_test = train_test_split(X, y, \n",
    "                                                    test_size=test_size, \n",
    "                                                    random_state=seed)\n",
    "\n",
    "pipe = Pipeline([('scaler', StandardScaler()), ('LogReg', LogisticRegression())])\n",
    "# The pipeline can be used as any other estimator\n",
    "# and avoids leaking the test set into the train set\n",
    "pipe.fit(X_train, y_train)\n",
    "# Check the model performance \n",
    "print(pipe.score(X_test, y_test))\n",
    "\n",
    "# Dump pickle to a file\n",
    "filename = 'model.pkl'\n",
    "pickle.dump(pipe, open(filename, 'wb'))"
   ]
  },
  {
   "cell_type": "code",
   "execution_count": 10,
   "id": "featured-wheel",
   "metadata": {},
   "outputs": [
    {
     "name": "stdout",
     "output_type": "stream",
     "text": [
      "0.5563111429253161\n"
     ]
    }
   ],
   "source": [
    "pipe = Pipeline([('scaler', StandardScaler()), ('LogReg', LogisticRegression())])\n",
    "pipe.fit(X_train, y_train)\n",
    "# Check the model performance \n",
    "print(pipe.score(X_test, y_test))\n",
    "filename = 'model.pkl'\n",
    "pickle.dump(pipe, open(filename, 'wb'))"
   ]
  },
  {
   "cell_type": "code",
   "execution_count": 11,
   "id": "convenient-hudson",
   "metadata": {},
   "outputs": [
    {
     "ename": "NameError",
     "evalue": "name 'XGBRegressor' is not defined",
     "output_type": "error",
     "traceback": [
      "\u001b[0;31m---------------------------------------------------------------------------\u001b[0m",
      "\u001b[0;31mNameError\u001b[0m                                 Traceback (most recent call last)",
      "\u001b[0;32m<ipython-input-11-e24dd1170c1d>\u001b[0m in \u001b[0;36m<module>\u001b[0;34m\u001b[0m\n\u001b[0;32m----> 1\u001b[0;31m \u001b[0mscores\u001b[0m \u001b[0;34m=\u001b[0m \u001b[0mcross_val_score\u001b[0m\u001b[0;34m(\u001b[0m\u001b[0mXGBRegressor\u001b[0m\u001b[0;34m(\u001b[0m\u001b[0mobjective\u001b[0m\u001b[0;34m=\u001b[0m\u001b[0;34m'reg:squarederror'\u001b[0m\u001b[0;34m)\u001b[0m\u001b[0;34m,\u001b[0m \u001b[0mX\u001b[0m\u001b[0;34m,\u001b[0m \u001b[0my\u001b[0m\u001b[0;34m,\u001b[0m \u001b[0mscoring\u001b[0m\u001b[0;34m=\u001b[0m\u001b[0;34m'neg_mean_squared_error'\u001b[0m\u001b[0;34m)\u001b[0m\u001b[0;34m\u001b[0m\u001b[0;34m\u001b[0m\u001b[0m\n\u001b[0m\u001b[1;32m      2\u001b[0m \u001b[0;34m(\u001b[0m\u001b[0;34m-\u001b[0m\u001b[0mscores\u001b[0m\u001b[0;34m)\u001b[0m\u001b[0;34m**\u001b[0m\u001b[0;36m0.5\u001b[0m\u001b[0;34m\u001b[0m\u001b[0;34m\u001b[0m\u001b[0m\n",
      "\u001b[0;31mNameError\u001b[0m: name 'XGBRegressor' is not defined"
     ]
    }
   ],
   "source": [
    "scores = cross_val_score(XGBRegressor(objective='reg:squarederror'), X, y, scoring='neg_mean_squared_error')\n",
    "(-scores)**0.5 "
   ]
  },
  {
   "cell_type": "code",
   "execution_count": null,
   "id": "handled-tamil",
   "metadata": {},
   "outputs": [],
   "source": []
  }
 ],
 "metadata": {
  "kernelspec": {
   "display_name": "Python 3",
   "language": "python",
   "name": "python3"
  },
  "language_info": {
   "codemirror_mode": {
    "name": "ipython",
    "version": 3
   },
   "file_extension": ".py",
   "mimetype": "text/x-python",
   "name": "python",
   "nbconvert_exporter": "python",
   "pygments_lexer": "ipython3",
   "version": "3.8.6"
  }
 },
 "nbformat": 4,
 "nbformat_minor": 5
}
