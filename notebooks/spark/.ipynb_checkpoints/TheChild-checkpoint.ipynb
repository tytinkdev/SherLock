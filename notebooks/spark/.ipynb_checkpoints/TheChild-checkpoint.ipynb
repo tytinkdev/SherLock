{
 "cells": [
  {
   "cell_type": "markdown",
   "id": "transparent-vatican",
   "metadata": {},
   "source": [
    "# SherLock, Malware Detection in Androids without Root Privileges"
   ]
  },
  {
   "cell_type": "markdown",
   "id": "faced-defensive",
   "metadata": {},
   "source": [
    "## Machine Learning In pySpark "
   ]
  },
  {
   "cell_type": "code",
   "execution_count": 268,
   "id": "supreme-slope",
   "metadata": {},
   "outputs": [],
   "source": [
    "from pyspark.sql import SparkSession\n",
    "from pyspark.ml.feature import VectorIndexer\n",
    "from pyspark.ml.feature import VectorAssembler\n",
    "from pyspark.ml.feature import StandardScaler\n",
    "from pyspark.ml import Pipeline\n",
    "import pandas as pd\n",
    "import numpy as np\n",
    "from pyspark.ml.linalg import Vectors\n",
    "import pyspark.ml.evaluation as ev\n",
    "\n",
    "\n",
    "from pyspark.ml.classification import RandomForestClassifier, GBTClassifier, LogisticRegression\n",
    "#from pyspark.ml.classification import GBTClassifier\n",
    "#from pyspark.ml.classification import LogisticRegression\n",
    "\n"
   ]
  },
  {
   "cell_type": "code",
   "execution_count": 36,
   "id": "commercial-sentence",
   "metadata": {},
   "outputs": [],
   "source": [
    "spark = SparkSession.builder.master('local[2]').config(\"spark.executor.memory\", \"2g\").config(\"spark.driver.memory\", \"2g\").appName('spark_sh_data').getOrCreate()\n",
    "df = spark.read.options(header=True, nullValue='NULL', inferSchema=True).option('nullValue','null').csv('/home/jovyan/SherLock/csvs/t4_mor.csv')\n",
    "newDf = df.withColumn('CPU_1', translate('CPU_1', 'NULL', '')).withColumn('CPU_2', translate('CPU_2', 'NULL', '')).withColumn('CPU_3', translate('CPU_3', 'NULL', '')).withColumn('Total_CPU', translate('Total_CPU', 'NULL', ''))\\\n",
    "    .withColumn('TotalMemory_freeSize', translate('TotalMemory_freeSize', 'NULL', ''))\n",
    "data = newDf.withColumn('CPU_1', newDf[\"CPU_1\"].cast(IntegerType())).withColumn('CPU_2', newDf[\"CPU_2\"].cast(IntegerType())).withColumn('CPU_3', newDf[\"CPU_3\"].cast(IntegerType())).withColumn('Total_CPU', newDf[\"Total_CPU\"].cast(IntegerType()))\\\n",
    "    .withColumn('TotalMemory_freeSize', newDf[\"TotalMemory_freeSize\"].cast(IntegerType()))"
   ]
  },
  {
   "cell_type": "markdown",
   "id": "frozen-china",
   "metadata": {},
   "source": [
    "### Not necessary to do the two next steps. Encoding datetimes is not necessary, they will not be included in the ML"
   ]
  },
  {
   "cell_type": "code",
   "execution_count": 37,
   "id": "expensive-thought",
   "metadata": {},
   "outputs": [],
   "source": [
    "import pyspark \n",
    "pyspark.sql.dataframe.DataFrame.shape = spark_shape\n",
    "def spark_shape(self):\n",
    "    return (self.count(), len(self.columns))"
   ]
  },
  {
   "cell_type": "code",
   "execution_count": 38,
   "id": "above-stress",
   "metadata": {},
   "outputs": [
    {
     "name": "stdout",
     "output_type": "stream",
     "text": [
      "(37384409, 27)\n"
     ]
    }
   ],
   "source": [
    "print(spark_shape(df.dropDuplicates()))"
   ]
  },
  {
   "cell_type": "code",
   "execution_count": 39,
   "id": "healthy-advertiser",
   "metadata": {},
   "outputs": [],
   "source": [
    "#stringIndexer = StringIndexer().setInputCol(\"Traffic_timestamp\").setOutputCol(\"Traffic_timestamp_index\").setHandleInvalid(\"skip\")\n",
    "#Traffic_timestamp_model=stringIndexer.fit(data)\n",
    "#dTraffic_timestamp_index_df=Traffic_timestamp_model.transform(data)"
   ]
  },
  {
   "cell_type": "code",
   "execution_count": 40,
   "id": "bored-carolina",
   "metadata": {},
   "outputs": [],
   "source": [
    "#encoder = OneHotEncoder().setInputCols([\"Traffic_timestamp_index\"]).setOutputCols([\"Traffic_timestamp_encoded\"])\n",
    "#encoder_model=encoder.fit(Traffic_timestamp_index_df)\n",
    "#encoder_df=encoder_model.transform(Traffic_timestamp_index_df)"
   ]
  },
  {
   "cell_type": "code",
   "execution_count": 55,
   "id": "proprietary-board",
   "metadata": {},
   "outputs": [],
   "source": [
    "data1 = df.filter((df.Traffic_MobileRxBytes != 0)&(df.Traffic_MobileRxPackets != 0)&(df.Traffic_MobileTxBytes != 0)&(df.Traffic_MobileTxPackets != 0)&(df.Traffic_TotalRxBytes != 0)\n",
    "                   &(df.Traffic_TotalRxPackets != 0)&(df.Traffic_TotalTxBytes != 0)&(df.Traffic_TotalTxPackets != 0)&(df.Traffic_TotalWifiRxBytes != 0)&(df.Traffic_TotalWifiRxPackets != 0)\n",
    "                   &(df.Traffic_TotalWifiTxBytes != 0)&(df.Traffic_TotalWifiTxPackets != 0))"
   ]
  },
  {
   "cell_type": "code",
   "execution_count": 56,
   "id": "enclosed-dispute",
   "metadata": {},
   "outputs": [],
   "source": [
    "assembler = VectorAssembler().setInputCols(['CpuGHz', 'CPU_0', 'CPU_1','CPU_2', 'CPU_3', \n",
    "                        #'Total_CPU', #'TotalMemory_freeSize',\n",
    "                        #'TotalMemory_max_size', 'TotalMemory_total_size',\n",
    "                        #'TotalMemory_used_size', \n",
    "                        'Traffic_MobileRxBytes', 'Traffic_MobileRxPackets', 'Traffic_MobileTxBytes', 'Traffic_MobileTxPackets', \n",
    "                        #'Traffic_TotalRxBytes', 'Traffic_TotalRxPackets', 'Traffic_TotalTxBytes', 'Traffic_TotalTxPackets', \n",
    "                        'Traffic_TotalWifiRxBytes', 'Traffic_TotalWifiRxPackets', 'Traffic_TotalWifiTxBytes', 'Traffic_TotalWifiTxPackets'])\\\n",
    "                        .setOutputCol(\"vectorized_features\").setHandleInvalid(\"skip\")\n",
    "assembler_df = assembler.transform(df)"
   ]
  },
  {
   "cell_type": "code",
   "execution_count": 57,
   "id": "persistent-monte",
   "metadata": {},
   "outputs": [],
   "source": [
    "label_indexer = StringIndexer().setInputCol(\"sessionType\").setOutputCol(\"label\")\n",
    "#label_indexer_model=label_indexer.fit(assembler_df)\n",
    "#label_indexer_df = label_indexer_model.transform(assembler_df)"
   ]
  },
  {
   "cell_type": "code",
   "execution_count": 58,
   "id": "usual-somerset",
   "metadata": {},
   "outputs": [],
   "source": [
    "scaler = StandardScaler().setInputCol(\"vectorized_features\").setOutputCol(\"features\")\n",
    "#scaler_model=scaler.fit(label_indexer_df)\n",
    "#scaler_df = scaler_model.transform(label_indexer_df)"
   ]
  },
  {
   "cell_type": "code",
   "execution_count": 59,
   "id": "minute-london",
   "metadata": {},
   "outputs": [],
   "source": [
    "pipeline_stages=Pipeline().setStages([assembler,label_indexer,scaler])\n",
    "pipeline_model=pipeline_stages.fit(data1)\n",
    "pipeline_df=pipeline_model.transform(data1)"
   ]
  },
  {
   "cell_type": "code",
   "execution_count": 60,
   "id": "strategic-aerospace",
   "metadata": {},
   "outputs": [],
   "source": [
    "pipeline_df = pipeline_df.filter(pipeline_df.label != 2.0)"
   ]
  },
  {
   "cell_type": "code",
   "execution_count": 61,
   "id": "analyzed-antarctica",
   "metadata": {},
   "outputs": [
    {
     "data": {
      "text/plain": [
       "(187804, 30)"
      ]
     },
     "execution_count": 61,
     "metadata": {},
     "output_type": "execute_result"
    }
   ],
   "source": [
    "spark_shape(pipeline_df)"
   ]
  },
  {
   "cell_type": "code",
   "execution_count": 46,
   "id": "radical-number",
   "metadata": {},
   "outputs": [],
   "source": [
    "train, test = pipeline_df.randomSplit([0.8,0.2], seed=56)\n",
    "\n",
    "lr = LogisticRegression(featuresCol = 'features', labelCol = 'label', maxIter=5)\n",
    "lrModel = lr.fit(train)\n",
    "predictions = lrModel.transform(test)"
   ]
  },
  {
   "cell_type": "code",
   "execution_count": 62,
   "id": "aquatic-multiple",
   "metadata": {},
   "outputs": [],
   "source": [
    "train, test = pipeline_df.randomSplit([0.8,0.2], seed=56)\n",
    "\n",
    "gbt = GBTClassifier(labelCol='label')\n",
    "\n",
    "gbtModel = gbt.fit(train)\n",
    "predictions = gbtModel.transform(test)"
   ]
  },
  {
   "cell_type": "code",
   "execution_count": 63,
   "id": "cleared-liberty",
   "metadata": {},
   "outputs": [
    {
     "name": "stdout",
     "output_type": "stream",
     "text": [
      "+-----+-----+\n",
      "|label|count|\n",
      "+-----+-----+\n",
      "|  0.0|32034|\n",
      "|  1.0| 5509|\n",
      "+-----+-----+\n",
      "\n"
     ]
    }
   ],
   "source": [
    "predictions.groupBy(\"label\").count().show()"
   ]
  },
  {
   "cell_type": "code",
   "execution_count": 64,
   "id": "relative-digest",
   "metadata": {},
   "outputs": [
    {
     "name": "stdout",
     "output_type": "stream",
     "text": [
      "+----------+-----+\n",
      "|prediction|count|\n",
      "+----------+-----+\n",
      "|       0.0|36442|\n",
      "|       1.0| 1101|\n",
      "+----------+-----+\n",
      "\n"
     ]
    }
   ],
   "source": [
    "predictions.groupBy(\"prediction\").count().show()"
   ]
  },
  {
   "cell_type": "code",
   "execution_count": 73,
   "id": "aerial-maker",
   "metadata": {},
   "outputs": [],
   "source": [
    "rf = RandomForestClassifier(maxDepth = 10, minInstancesPerNode = 4)\n",
    "rfModel = rf.fit(train)\n",
    "rfPreds = rfModel.transform(test)"
   ]
  },
  {
   "cell_type": "code",
   "execution_count": 74,
   "id": "adjustable-carpet",
   "metadata": {},
   "outputs": [
    {
     "name": "stdout",
     "output_type": "stream",
     "text": [
      "+-----+-----+\n",
      "|label|count|\n",
      "+-----+-----+\n",
      "|  0.0|32034|\n",
      "|  1.0| 5509|\n",
      "+-----+-----+\n",
      "\n"
     ]
    }
   ],
   "source": [
    "rfPreds.groupBy(\"label\").count().show()"
   ]
  },
  {
   "cell_type": "code",
   "execution_count": 75,
   "id": "divided-absolute",
   "metadata": {},
   "outputs": [
    {
     "name": "stdout",
     "output_type": "stream",
     "text": [
      "+----------+-----+\n",
      "|prediction|count|\n",
      "+----------+-----+\n",
      "|       0.0|36412|\n",
      "|       1.0| 1131|\n",
      "+----------+-----+\n",
      "\n"
     ]
    }
   ],
   "source": [
    "rfPreds.groupBy(\"prediction\").count().show()"
   ]
  },
  {
   "cell_type": "code",
   "execution_count": 65,
   "id": "virtual-prospect",
   "metadata": {},
   "outputs": [
    {
     "name": "stdout",
     "output_type": "stream",
     "text": [
      "0.5948216800372059\n",
      "0.6289512249102381\n"
     ]
    }
   ],
   "source": [
    "evaluator = ev.BinaryClassificationEvaluator(rawPredictionCol='prediction', labelCol='label')\n",
    "\n",
    "print(evaluator.evaluate(predictions, {evaluator.metricName: 'areaUnderROC'}))\n",
    "print(evaluator.evaluate(predictions, {evaluator.metricName: 'areaUnderPR'}))"
   ]
  },
  {
   "cell_type": "code",
   "execution_count": 76,
   "id": "promotional-insulin",
   "metadata": {},
   "outputs": [
    {
     "name": "stdout",
     "output_type": "stream",
     "text": [
      "0.599671877038706\n",
      "0.6439314859236297\n"
     ]
    }
   ],
   "source": [
    "import pyspark.ml.evaluation as ev\n",
    "\n",
    "evaluator = ev.BinaryClassificationEvaluator(rawPredictionCol='prediction', labelCol='label')\n",
    "\n",
    "print(evaluator.evaluate(rfPreds, {evaluator.metricName: 'areaUnderROC'}))\n",
    "print(evaluator.evaluate(rfPreds, {evaluator.metricName: 'areaUnderPR'}))"
   ]
  },
  {
   "cell_type": "code",
   "execution_count": 77,
   "id": "finite-isaac",
   "metadata": {},
   "outputs": [],
   "source": [
    "rfModel.write().overwrite().save(\"/home/jovyan/Sherlock/models/rf_model\")"
   ]
  },
  {
   "cell_type": "code",
   "execution_count": 66,
   "id": "affected-preservation",
   "metadata": {},
   "outputs": [],
   "source": [
    "gbtModel.write().overwrite().save(\"/home/jovyan/Sherlock/models/gbt_model2\")\n",
    "rfModel.write().overwrite().save(\"/home/jovyan/Sherlock/models/rf_model\")"
   ]
  },
  {
   "cell_type": "code",
   "execution_count": 67,
   "id": "happy-ranking",
   "metadata": {},
   "outputs": [],
   "source": [
    "predictions.toPandas().to_csv(\"/home/jovyan/SherLock/csvs/preds2.csv\")"
   ]
  },
  {
   "cell_type": "code",
   "execution_count": 78,
   "id": "prepared-qatar",
   "metadata": {},
   "outputs": [],
   "source": [
    "rfPreds.toPandas().to_csv(\"/home/jovyan/SherLock/csvs/rfPreds.csv\")"
   ]
  },
  {
   "cell_type": "code",
   "execution_count": 271,
   "id": "absent-north",
   "metadata": {},
   "outputs": [],
   "source": [
    "rfPreds = pd.read_csv(\"/home/jovyan/SherLock/csvs/rfPreds.csv\")"
   ]
  },
  {
   "cell_type": "code",
   "execution_count": 227,
   "id": "rocky-notebook",
   "metadata": {},
   "outputs": [],
   "source": [
    "preds = pd.read_csv(\"/home/jovyan/SherLock/csvs/rfPreds.csv\")"
   ]
  },
  {
   "cell_type": "code",
   "execution_count": 228,
   "id": "expired-award",
   "metadata": {},
   "outputs": [],
   "source": [
    "from sklearn.metrics import confusion_matrix"
   ]
  },
  {
   "cell_type": "code",
   "execution_count": 288,
   "id": "regional-locking",
   "metadata": {},
   "outputs": [
    {
     "data": {
      "text/plain": [
       "46"
      ]
     },
     "execution_count": 288,
     "metadata": {},
     "output_type": "execute_result"
    }
   ],
   "source": [
    "len(preds.value_counts('userid'))"
   ]
  },
  {
   "cell_type": "markdown",
   "id": "living-notice",
   "metadata": {},
   "source": [
    "### Extract malicious probabilities from the output dataframe"
   ]
  },
  {
   "cell_type": "code",
   "execution_count": 272,
   "id": "solved-confidentiality",
   "metadata": {},
   "outputs": [],
   "source": [
    "def mal_probs_col(df):\n",
    "    df['malicious_probs'] = df.apply(lambda x: x['probability'].replace('[', '').replace(']','').split(','),axis=1).map(lambda x: float(x[1]))"
   ]
  },
  {
   "cell_type": "markdown",
   "id": "healthy-manchester",
   "metadata": {},
   "source": [
    "### Confusion Matrix"
   ]
  },
  {
   "cell_type": "code",
   "execution_count": 295,
   "id": "suffering-router",
   "metadata": {},
   "outputs": [
    {
     "data": {
      "text/html": [
       "<div>\n",
       "<style scoped>\n",
       "    .dataframe tbody tr th:only-of-type {\n",
       "        vertical-align: middle;\n",
       "    }\n",
       "\n",
       "    .dataframe tbody tr th {\n",
       "        vertical-align: top;\n",
       "    }\n",
       "\n",
       "    .dataframe thead th {\n",
       "        text-align: right;\n",
       "    }\n",
       "</style>\n",
       "<table border=\"1\" class=\"dataframe\">\n",
       "  <thead>\n",
       "    <tr style=\"text-align: right;\">\n",
       "      <th></th>\n",
       "      <th>Unnamed: 0</th>\n",
       "      <th>uuid</th>\n",
       "      <th>sessionType</th>\n",
       "      <th>userid</th>\n",
       "      <th>Version</th>\n",
       "      <th>CpuGHz</th>\n",
       "      <th>CPU_0</th>\n",
       "      <th>CPU_1</th>\n",
       "      <th>CPU_2</th>\n",
       "      <th>CPU_3</th>\n",
       "      <th>...</th>\n",
       "      <th>vectorized_features</th>\n",
       "      <th>label</th>\n",
       "      <th>features</th>\n",
       "      <th>rawPrediction</th>\n",
       "      <th>probability</th>\n",
       "      <th>prediction</th>\n",
       "      <th>benign_probs</th>\n",
       "      <th>malicious_probs</th>\n",
       "      <th>thresh_1_preds</th>\n",
       "      <th>thresh_preds</th>\n",
       "    </tr>\n",
       "  </thead>\n",
       "  <tbody>\n",
       "    <tr>\n",
       "      <th>0</th>\n",
       "      <td>0</td>\n",
       "      <td>1451625511567</td>\n",
       "      <td>malicious</td>\n",
       "      <td>6e200090ee</td>\n",
       "      <td>2.0</td>\n",
       "      <td>2.4</td>\n",
       "      <td>37.500000</td>\n",
       "      <td>50.0</td>\n",
       "      <td>55.555557</td>\n",
       "      <td>83.33333</td>\n",
       "      <td>...</td>\n",
       "      <td>[2.4,37.5,50.0,55.555557,83.33333,-3761566.0,-...</td>\n",
       "      <td>0.0</td>\n",
       "      <td>[4.651502962789097,1.2040668532128518,1.455299...</td>\n",
       "      <td>[16.83877455691657,3.1612254430834317,0.0]</td>\n",
       "      <td>[0.8419387278458285,0.1580612721541716,0.0]</td>\n",
       "      <td>0.0</td>\n",
       "      <td>0.841939</td>\n",
       "      <td>0.158061</td>\n",
       "      <td>0</td>\n",
       "      <td>0</td>\n",
       "    </tr>\n",
       "    <tr>\n",
       "      <th>1</th>\n",
       "      <td>1</td>\n",
       "      <td>1451629781897</td>\n",
       "      <td>benign</td>\n",
       "      <td>97bb95f55a</td>\n",
       "      <td>2.0</td>\n",
       "      <td>1.4</td>\n",
       "      <td>5.882353</td>\n",
       "      <td>0.0</td>\n",
       "      <td>0.000000</td>\n",
       "      <td>0.00000</td>\n",
       "      <td>...</td>\n",
       "      <td>[1.4,5.882353,0.0,0.0,0.0,276.0,5.0,213.0,3.0,...</td>\n",
       "      <td>1.0</td>\n",
       "      <td>[2.71337672829364,0.18887323376525808,0.0,0.0,...</td>\n",
       "      <td>[17.885460380519717,2.114539619480286,0.0]</td>\n",
       "      <td>[0.8942730190259857,0.10572698097401427,0.0]</td>\n",
       "      <td>0.0</td>\n",
       "      <td>0.894273</td>\n",
       "      <td>0.105727</td>\n",
       "      <td>0</td>\n",
       "      <td>0</td>\n",
       "    </tr>\n",
       "    <tr>\n",
       "      <th>2</th>\n",
       "      <td>2</td>\n",
       "      <td>1451757492147</td>\n",
       "      <td>malicious</td>\n",
       "      <td>97bb95f55a</td>\n",
       "      <td>2.0</td>\n",
       "      <td>0.3</td>\n",
       "      <td>6.250000</td>\n",
       "      <td>0.0</td>\n",
       "      <td>0.000000</td>\n",
       "      <td>0.00000</td>\n",
       "      <td>...</td>\n",
       "      <td>[0.3,6.25,0.0,0.0,0.0,129333.0,256.0,34526.0,1...</td>\n",
       "      <td>0.0</td>\n",
       "      <td>[0.5814378703486371,0.20067780886880862,0.0,0....</td>\n",
       "      <td>[18.92397546432635,1.0760245356736462,0.0]</td>\n",
       "      <td>[0.9461987732163177,0.05380122678368232,0.0]</td>\n",
       "      <td>0.0</td>\n",
       "      <td>0.946199</td>\n",
       "      <td>0.053801</td>\n",
       "      <td>0</td>\n",
       "      <td>0</td>\n",
       "    </tr>\n",
       "    <tr>\n",
       "      <th>3</th>\n",
       "      <td>3</td>\n",
       "      <td>1451757542099</td>\n",
       "      <td>malicious</td>\n",
       "      <td>97bb95f55a</td>\n",
       "      <td>2.0</td>\n",
       "      <td>1.4</td>\n",
       "      <td>6.666667</td>\n",
       "      <td>0.0</td>\n",
       "      <td>0.000000</td>\n",
       "      <td>0.00000</td>\n",
       "      <td>...</td>\n",
       "      <td>[1.4,6.666667,0.0,0.0,0.0,699087.0,600.0,49693...</td>\n",
       "      <td>0.0</td>\n",
       "      <td>[2.71337672829364,0.21405634016287903,0.0,0.0,...</td>\n",
       "      <td>[18.692731976898212,1.3072680231017855,0.0]</td>\n",
       "      <td>[0.9346365988449108,0.06536340115508929,0.0]</td>\n",
       "      <td>0.0</td>\n",
       "      <td>0.934637</td>\n",
       "      <td>0.065363</td>\n",
       "      <td>0</td>\n",
       "      <td>0</td>\n",
       "    </tr>\n",
       "    <tr>\n",
       "      <th>4</th>\n",
       "      <td>4</td>\n",
       "      <td>1451758397054</td>\n",
       "      <td>malicious</td>\n",
       "      <td>97bb95f55a</td>\n",
       "      <td>2.0</td>\n",
       "      <td>2.4</td>\n",
       "      <td>0.000000</td>\n",
       "      <td>0.0</td>\n",
       "      <td>0.000000</td>\n",
       "      <td>0.00000</td>\n",
       "      <td>...</td>\n",
       "      <td>[2.4,0.0,0.0,0.0,0.0,1109496.0,1153.0,98919.0,...</td>\n",
       "      <td>0.0</td>\n",
       "      <td>[4.651502962789097,0.0,0.0,0.0,0.0,0.009918429...</td>\n",
       "      <td>[16.85897137973594,3.1410286202640605,0.0]</td>\n",
       "      <td>[0.842948568986797,0.157051431013203,0.0]</td>\n",
       "      <td>0.0</td>\n",
       "      <td>0.842949</td>\n",
       "      <td>0.157051</td>\n",
       "      <td>0</td>\n",
       "      <td>0</td>\n",
       "    </tr>\n",
       "  </tbody>\n",
       "</table>\n",
       "<p>5 rows × 38 columns</p>\n",
       "</div>"
      ],
      "text/plain": [
       "   Unnamed: 0           uuid sessionType      userid Version  CpuGHz  \\\n",
       "0           0  1451625511567   malicious  6e200090ee     2.0     2.4   \n",
       "1           1  1451629781897      benign  97bb95f55a     2.0     1.4   \n",
       "2           2  1451757492147   malicious  97bb95f55a     2.0     0.3   \n",
       "3           3  1451757542099   malicious  97bb95f55a     2.0     1.4   \n",
       "4           4  1451758397054   malicious  97bb95f55a     2.0     2.4   \n",
       "\n",
       "       CPU_0  CPU_1      CPU_2     CPU_3  ...  \\\n",
       "0  37.500000   50.0  55.555557  83.33333  ...   \n",
       "1   5.882353    0.0   0.000000   0.00000  ...   \n",
       "2   6.250000    0.0   0.000000   0.00000  ...   \n",
       "3   6.666667    0.0   0.000000   0.00000  ...   \n",
       "4   0.000000    0.0   0.000000   0.00000  ...   \n",
       "\n",
       "                                 vectorized_features  label  \\\n",
       "0  [2.4,37.5,50.0,55.555557,83.33333,-3761566.0,-...    0.0   \n",
       "1  [1.4,5.882353,0.0,0.0,0.0,276.0,5.0,213.0,3.0,...    1.0   \n",
       "2  [0.3,6.25,0.0,0.0,0.0,129333.0,256.0,34526.0,1...    0.0   \n",
       "3  [1.4,6.666667,0.0,0.0,0.0,699087.0,600.0,49693...    0.0   \n",
       "4  [2.4,0.0,0.0,0.0,0.0,1109496.0,1153.0,98919.0,...    0.0   \n",
       "\n",
       "                                            features  \\\n",
       "0  [4.651502962789097,1.2040668532128518,1.455299...   \n",
       "1  [2.71337672829364,0.18887323376525808,0.0,0.0,...   \n",
       "2  [0.5814378703486371,0.20067780886880862,0.0,0....   \n",
       "3  [2.71337672829364,0.21405634016287903,0.0,0.0,...   \n",
       "4  [4.651502962789097,0.0,0.0,0.0,0.0,0.009918429...   \n",
       "\n",
       "                                 rawPrediction  \\\n",
       "0   [16.83877455691657,3.1612254430834317,0.0]   \n",
       "1   [17.885460380519717,2.114539619480286,0.0]   \n",
       "2   [18.92397546432635,1.0760245356736462,0.0]   \n",
       "3  [18.692731976898212,1.3072680231017855,0.0]   \n",
       "4   [16.85897137973594,3.1410286202640605,0.0]   \n",
       "\n",
       "                                    probability  prediction  benign_probs  \\\n",
       "0   [0.8419387278458285,0.1580612721541716,0.0]         0.0      0.841939   \n",
       "1  [0.8942730190259857,0.10572698097401427,0.0]         0.0      0.894273   \n",
       "2  [0.9461987732163177,0.05380122678368232,0.0]         0.0      0.946199   \n",
       "3  [0.9346365988449108,0.06536340115508929,0.0]         0.0      0.934637   \n",
       "4     [0.842948568986797,0.157051431013203,0.0]         0.0      0.842949   \n",
       "\n",
       "   malicious_probs  thresh_1_preds  thresh_preds  \n",
       "0         0.158061               0             0  \n",
       "1         0.105727               0             0  \n",
       "2         0.053801               0             0  \n",
       "3         0.065363               0             0  \n",
       "4         0.157051               0             0  \n",
       "\n",
       "[5 rows x 38 columns]"
      ]
     },
     "execution_count": 295,
     "metadata": {},
     "output_type": "execute_result"
    }
   ],
   "source": [
    "preds.head()"
   ]
  },
  {
   "cell_type": "code",
   "execution_count": 304,
   "id": "elect-cycling",
   "metadata": {},
   "outputs": [
    {
     "data": {
      "text/plain": [
       "array([[24951,  7083],\n",
       "       [ 2449,  3060]])"
      ]
     },
     "execution_count": 304,
     "metadata": {},
     "output_type": "execute_result"
    }
   ],
   "source": [
    "preds['thresh_preds'] = np.where(preds['malicious_probs'] >= .15, 1, 0)\n",
    "confusion_matrix(preds.label, preds.thresh_preds)\n",
    "# best threshold = .15"
   ]
  },
  {
   "cell_type": "markdown",
   "id": "civic-numbers",
   "metadata": {},
   "source": [
    "### Homemade ROC"
   ]
  },
  {
   "cell_type": "code",
   "execution_count": 281,
   "id": "latin-collins",
   "metadata": {},
   "outputs": [],
   "source": [
    "def roc_curve(df): \n",
    "    thresholds = [i for i in np.arange(0,1,0.008)]\n",
    "    curve_vals = pd.DataFrame()\n",
    "    for thresh in thresholds:\n",
    "        df['thresh_preds'] = np.where(df['malicious_probs']>= thresh, 1, 0)\n",
    "        TP = confusion_matrix(df.label, df.thresh_preds)[1][1]\n",
    "        FP = confusion_matrix(df.label, df.thresh_preds)[0][1]\n",
    "        TN = confusion_matrix(df.label, df.thresh_preds)[0][0]\n",
    "        FN = confusion_matrix(df.label, df.thresh_preds)[1][0]\n",
    "        TPR = TP/(TP+FN)\n",
    "        FPR = FP/(FP+TN)\n",
    "        curve_vals = curve_vals.append({'TPR' : TPR, 'FPR' : FPR}, ignore_index = True)\n",
    "    return curve_vals"
   ]
  },
  {
   "cell_type": "code",
   "execution_count": 283,
   "id": "eight-submission",
   "metadata": {},
   "outputs": [],
   "source": [
    "gbtROC2 = roc_curve(preds)\n",
    "rfROC = roc_curve(rfPreds)"
   ]
  },
  {
   "cell_type": "code",
   "execution_count": 284,
   "id": "mounted-agriculture",
   "metadata": {},
   "outputs": [
    {
     "data": {
      "text/plain": [
       "[<matplotlib.lines.Line2D at 0x7fe887a43af0>]"
      ]
     },
     "execution_count": 284,
     "metadata": {},
     "output_type": "execute_result"
    },
    {
     "data": {
      "image/png": "[encoded data removed]",
      "text/plain": [
       "<Figure size 432x288 with 1 Axes>"
      ]
     },
     "metadata": {
      "needs_background": "light"
     },
     "output_type": "display_data"
    }
   ],
   "source": [
    "plt.pyplot.plot(rfROC['FPR'], rfROC['TPR'])"
   ]
  },
  {
   "cell_type": "code",
   "execution_count": 275,
   "id": "chemical-configuration",
   "metadata": {},
   "outputs": [
    {
     "data": {
      "text/plain": [
       "[<matplotlib.lines.Line2D at 0x7fe887b3ee50>]"
      ]
     },
     "execution_count": 275,
     "metadata": {},
     "output_type": "execute_result"
    },
    {
     "data": {
      "image/png": "[encoded data removed]",
      "text/plain": [
       "<Figure size 432x288 with 1 Axes>"
      ]
     },
     "metadata": {
      "needs_background": "light"
     },
     "output_type": "display_data"
    }
   ],
   "source": [
    "plt.pyplot.plot(gbtROC['FPR'], gbtROC['TPR'])"
   ]
  },
  {
   "cell_type": "code",
   "execution_count": 244,
   "id": "laden-product",
   "metadata": {},
   "outputs": [
    {
     "data": {
      "text/plain": [
       "array([[32034,     0],\n",
       "       [ 5064,   445]])"
      ]
     },
     "execution_count": 244,
     "metadata": {},
     "output_type": "execute_result"
    }
   ],
   "source": [
    "confusion_matrix(preds.label, preds.thresh_1_preds)"
   ]
  },
  {
   "cell_type": "code",
   "execution_count": 247,
   "id": "infectious-marriage",
   "metadata": {},
   "outputs": [
    {
     "data": {
      "text/html": [
       "<div>\n",
       "<style scoped>\n",
       "    .dataframe tbody tr th:only-of-type {\n",
       "        vertical-align: middle;\n",
       "    }\n",
       "\n",
       "    .dataframe tbody tr th {\n",
       "        vertical-align: top;\n",
       "    }\n",
       "\n",
       "    .dataframe thead th {\n",
       "        text-align: right;\n",
       "    }\n",
       "</style>\n",
       "<table border=\"1\" class=\"dataframe\">\n",
       "  <thead>\n",
       "    <tr style=\"text-align: right;\">\n",
       "      <th></th>\n",
       "      <th>FPR</th>\n",
       "      <th>TPR</th>\n",
       "    </tr>\n",
       "  </thead>\n",
       "  <tbody>\n",
       "    <tr>\n",
       "      <th>0</th>\n",
       "      <td>NaN</td>\n",
       "      <td>0.146738</td>\n",
       "    </tr>\n",
       "    <tr>\n",
       "      <th>1</th>\n",
       "      <td>NaN</td>\n",
       "      <td>0.146738</td>\n",
       "    </tr>\n",
       "    <tr>\n",
       "      <th>2</th>\n",
       "      <td>0.000000</td>\n",
       "      <td>0.146770</td>\n",
       "    </tr>\n",
       "    <tr>\n",
       "      <th>3</th>\n",
       "      <td>0.000000</td>\n",
       "      <td>0.147386</td>\n",
       "    </tr>\n",
       "    <tr>\n",
       "      <th>4</th>\n",
       "      <td>0.013095</td>\n",
       "      <td>0.149797</td>\n",
       "    </tr>\n",
       "    <tr>\n",
       "      <th>...</th>\n",
       "      <td>...</td>\n",
       "      <td>...</td>\n",
       "    </tr>\n",
       "    <tr>\n",
       "      <th>95</th>\n",
       "      <td>0.131729</td>\n",
       "      <td>1.000000</td>\n",
       "    </tr>\n",
       "    <tr>\n",
       "      <th>96</th>\n",
       "      <td>0.131729</td>\n",
       "      <td>1.000000</td>\n",
       "    </tr>\n",
       "    <tr>\n",
       "      <th>97</th>\n",
       "      <td>0.131729</td>\n",
       "      <td>1.000000</td>\n",
       "    </tr>\n",
       "    <tr>\n",
       "      <th>98</th>\n",
       "      <td>0.136503</td>\n",
       "      <td>1.000000</td>\n",
       "    </tr>\n",
       "    <tr>\n",
       "      <th>99</th>\n",
       "      <td>0.136503</td>\n",
       "      <td>1.000000</td>\n",
       "    </tr>\n",
       "  </tbody>\n",
       "</table>\n",
       "<p>100 rows × 2 columns</p>\n",
       "</div>"
      ],
      "text/plain": [
       "         FPR       TPR\n",
       "0        NaN  0.146738\n",
       "1        NaN  0.146738\n",
       "2   0.000000  0.146770\n",
       "3   0.000000  0.147386\n",
       "4   0.013095  0.149797\n",
       "..       ...       ...\n",
       "95  0.131729  1.000000\n",
       "96  0.131729  1.000000\n",
       "97  0.131729  1.000000\n",
       "98  0.136503  1.000000\n",
       "99  0.136503  1.000000\n",
       "\n",
       "[100 rows x 2 columns]"
      ]
     },
     "execution_count": 247,
     "metadata": {},
     "output_type": "execute_result"
    }
   ],
   "source": [
    "gbtROC"
   ]
  },
  {
   "cell_type": "code",
   "execution_count": 35,
   "id": "early-revision",
   "metadata": {},
   "outputs": [
    {
     "data": {
      "text/plain": [
       "<matplotlib.collections.PathCollection at 0x7fe89c5b4dc0>"
      ]
     },
     "execution_count": 35,
     "metadata": {},
     "output_type": "execute_result"
    },
    {
     "data": {
      "image/png": "[encoded data removed]",
      "text/plain": [
       "<Figure size 432x288 with 1 Axes>"
      ]
     },
     "metadata": {
      "needs_background": "light"
     },
     "output_type": "display_data"
    }
   ],
   "source": [
    "import matplotlib as plt\n",
    "plt.pyplot.scatter(preds[preds.prediction == 1].Traffic_timestamp, preds[preds.prediction == 1].Traffic_TotalTxPackets)"
   ]
  },
  {
   "cell_type": "code",
   "execution_count": 31,
   "id": "comparable-glance",
   "metadata": {},
   "outputs": [
    {
     "data": {
      "text/plain": [
       "Index(['Unnamed: 0', 'uuid', 'sessionType', 'userid', 'Version', 'CpuGHz',\n",
       "       'CPU_0', 'CPU_1', 'CPU_2', 'CPU_3', 'Total_CPU', 'TotalMemory_freeSize',\n",
       "       'TotalMemory_max_size', 'TotalMemory_total_size',\n",
       "       'TotalMemory_used_size', 'Traffic_MobileRxBytes',\n",
       "       'Traffic_MobileRxPackets', 'Traffic_MobileTxBytes',\n",
       "       'Traffic_MobileTxPackets', 'Traffic_TotalRxBytes',\n",
       "       'Traffic_TotalRxPackets', 'Traffic_TotalTxBytes',\n",
       "       'Traffic_TotalTxPackets', 'Traffic_TotalWifiRxBytes',\n",
       "       'Traffic_TotalWifiRxPackets', 'Traffic_TotalWifiTxBytes',\n",
       "       'Traffic_TotalWifiTxPackets', 'Traffic_timestamp',\n",
       "       'vectorized_features', 'label', 'features', 'rawPrediction',\n",
       "       'probability', 'prediction'],\n",
       "      dtype='object')"
      ]
     },
     "execution_count": 31,
     "metadata": {},
     "output_type": "execute_result"
    }
   ],
   "source": [
    "preds[preds.prediction == 1].columns"
   ]
  },
  {
   "cell_type": "code",
   "execution_count": null,
   "id": "infectious-sally",
   "metadata": {},
   "outputs": [],
   "source": []
  }
 ],
 "metadata": {
  "kernelspec": {
   "display_name": "Python 3",
   "language": "python",
   "name": "python3"
  },
  "language_info": {
   "codemirror_mode": {
    "name": "ipython",
    "version": 3
   },
   "file_extension": ".py",
   "mimetype": "text/x-python",
   "name": "python",
   "nbconvert_exporter": "python",
   "pygments_lexer": "ipython3",
   "version": "3.8.6"
  }
 },
 "nbformat": 4,
 "nbformat_minor": 5
}
